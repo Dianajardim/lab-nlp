{
 "cells": [
  {
   "cell_type": "markdown",
   "metadata": {},
   "source": [
    "# Challenge 2: Sentiment Analysis\n",
    "\n",
    "In this challenge we will learn sentiment analysis and practice performing sentiment analysis on Twitter tweets. \n",
    "\n",
    "## Introduction\n",
    "\n",
    "Sentiment analysis is to *systematically identify, extract, quantify, and study affective states and subjective information* based on texts ([reference](https://en.wikipedia.org/wiki/Sentiment_analysis)). In simple words, it's to understand whether a person is happy or unhappy in producing the piece of text. Why we (or rather, companies) care about sentiment in texts? It's because by understanding the sentiments in texts, we will be able to know if our customers are happy or unhappy about our products and services. If they are unhappy, the subsequent action is to figure out what have caused the unhappiness and make improvements.\n",
    "\n",
    "Basic sentiment analysis only understands the *positive* or *negative* (sometimes *neutral* too) polarities of the sentiment. More advanced sentiment analysis will also consider dimensions such as agreement, subjectivity, confidence, irony, and so on. In this challenge we will conduct the basic positive vs negative sentiment analysis based on real Twitter tweets.\n",
    "\n",
    "NLTK comes with a [sentiment analysis package](https://www.nltk.org/api/nltk.sentiment.html). This package is great for dummies to perform sentiment analysis because it requires only the textual data to make predictions. For example:\n",
    "\n",
    "```python\n",
    ">>> from nltk.sentiment.vader import SentimentIntensityAnalyzer\n",
    ">>> txt = \"Ironhack is a Global Tech School ranked num 2 worldwide.  \n",
    " \n",
    "Our mission is to help people transform their careers and join a thriving community of tech professionals that love what they do.\"\n",
    ">>> analyzer = SentimentIntensityAnalyzer()\n",
    ">>> analyzer.polarity_scores(txt)\n",
    "{'neg': 0.0, 'neu': 0.741, 'pos': 0.259, 'compound': 0.8442}\n",
    "```\n",
    "\n",
    "In this challenge, however, you will not use NLTK's sentiment analysis package because in your Machine Learning training in the past 2 weeks you have learned how to make predictions more accurate than that. The [tweets data](https://www.kaggle.com/kazanova/sentiment140) we will be using today are already coded for the positive/negative sentiment. You will be able to use the Naïve Bayes classifier you learned in the lesson to predict the sentiment of tweets based on the labels."
   ]
  },
  {
   "cell_type": "markdown",
   "metadata": {},
   "source": [
    "## Conducting Sentiment Analysis\n",
    "\n",
    "### Loading and Exploring Data\n",
    "\n",
    "The dataset we'll be using today is located on Kaggle (https://www.kaggle.com/kazanova/sentiment140). Once you have downloaded and imported the dataset, it you will need to define the columns names: df.columns = ['target','id','date','flag','user','text']\n",
    "\n",
    "*Notes:* \n",
    "\n",
    "* The dataset is huuuuge (1.6m tweets). When you develop your data analysis codes, you can sample a subset of the data (e.g. 20k records) so that you will save a lot of time when you test your codes."
   ]
  },
  {
   "cell_type": "code",
   "execution_count": 1,
   "metadata": {},
   "outputs": [],
   "source": [
    "# your code here\n",
    "\n",
    "import pandas as pd\n",
    "import numpy as np\n",
    "from nltk.corpus import stopwords\n",
    "from nltk.corpus import stopwords\n",
    "import re\n",
    "import nltk\n",
    "from nltk.probability import ConditionalFreqDist\n",
    "from nltk.sentiment.vader import SentimentIntensityAnalyzer\n",
    "from sklearn.feature_extraction.text import CountVectorizer\n",
    "from sklearn.feature_extraction.text import TfidfVectorizer\n",
    "from nltk.stem import PorterStemmer\n",
    "from nltk.stem import WordNetLemmatizer\n",
    "from nltk.corpus import wordnet\n",
    "from nltk.corpus import stopwords"
   ]
  },
  {
   "cell_type": "code",
   "execution_count": 11,
   "metadata": {},
   "outputs": [
    {
     "name": "stdout",
     "output_type": "stream",
     "text": [
      "Failed to read with encoding utf-8. Trying next encoding...\n",
      "Data loaded successfully.\n"
     ]
    }
   ],
   "source": [
    "# Define the desired column names\n",
    "column_names = ['target', 'id', 'date', 'flag', 'user', 'text']\n",
    "\n",
    "# Try different encodings\n",
    "encodings = ['utf-8', 'latin1', 'windows-1252']\n",
    "for encoding in encodings:\n",
    "    try:\n",
    "        # Read the CSV file with specified column names and sample 20000 rows\n",
    "        tweets = pd.read_csv(\"C:/Users/diana/Documents/Repos/GitHub/lab-nlp/training.1600000.processed.noemoticon.csv\", encoding=encoding, names=column_names, header=None).sample(10000)\n",
    "        break  # If successful, exit the loop\n",
    "    except UnicodeDecodeError:\n",
    "        print(f\"Failed to read with encoding {encoding}. Trying next encoding...\")\n",
    "\n",
    "print(\"Data loaded successfully.\")"
   ]
  },
  {
   "cell_type": "code",
   "execution_count": 20,
   "metadata": {},
   "outputs": [
    {
     "name": "stderr",
     "output_type": "stream",
     "text": [
      "[nltk_data] Downloading package punkt to\n",
      "[nltk_data]     C:\\Users\\diana\\AppData\\Roaming\\nltk_data...\n",
      "[nltk_data]   Package punkt is already up-to-date!\n",
      "[nltk_data] Downloading package wordnet to\n",
      "[nltk_data]     C:\\Users\\diana\\AppData\\Roaming\\nltk_data...\n",
      "[nltk_data]   Package wordnet is already up-to-date!\n",
      "[nltk_data] Downloading package omw-1.4 to\n",
      "[nltk_data]     C:\\Users\\diana\\AppData\\Roaming\\nltk_data...\n",
      "[nltk_data]   Package omw-1.4 is already up-to-date!\n",
      "[nltk_data] Downloading package stopwords to\n",
      "[nltk_data]     C:\\Users\\diana\\AppData\\Roaming\\nltk_data...\n",
      "[nltk_data]   Package stopwords is already up-to-date!\n"
     ]
    }
   ],
   "source": [
    "def clean_up(s):\n",
    "    \"\"\"\n",
    "    Cleans up numbers, URLs, and special characters from a string.\n",
    "\n",
    "    Args:\n",
    "        s: The string to be cleaned up.\n",
    "    \n",
    "    Returns:\n",
    "        A string that has been cleaned up.\n",
    "    \"\"\"\n",
    "    string = re.sub(r'http\\S+', '', s)\n",
    "    \n",
    "    return re.sub('[^A-Za-z]+', ' ', string).lower().strip()\n",
    "\n",
    "from nltk.tokenize import word_tokenize\n",
    "nltk.download('punkt')\n",
    "\n",
    "def tokenize(s):\n",
    "    \"\"\"\n",
    "    Tokenize a string.\n",
    "\n",
    "    Args:\n",
    "        s: String to be tokenized.\n",
    "\n",
    "    Returns:\n",
    "        A list of words as the result of tokenization.\n",
    "    \"\"\"\n",
    "    return word_tokenize(s)\n",
    "\n",
    "from nltk.stem import PorterStemmer\n",
    "from nltk.stem import WordNetLemmatizer \n",
    "nltk.download('wordnet') \n",
    "nltk.download('omw-1.4')\n",
    "\n",
    "def stem_and_lemmatize(l):\n",
    "    \"\"\"\n",
    "    Perform stemming and lemmatization on a list of words.\n",
    "\n",
    "    Args:\n",
    "        l: A list of strings.\n",
    "\n",
    "    Returns:\n",
    "        A list of strings after being stemmed and lemmatized.\n",
    "    \"\"\"\n",
    "    ps = PorterStemmer()\n",
    "    lemmatizer = WordNetLemmatizer() \n",
    "    sentence_stemmed_lemmatized =[]\n",
    "    \n",
    "    for w in l:\n",
    "        stemmed = ps.stem(w)\n",
    "        stemmed_lemmatized = lemmatizer.lemmatize(stemmed)\n",
    "        sentence_stemmed_lemmatized += [stemmed_lemmatized]\n",
    "    \n",
    "    return sentence_stemmed_lemmatized\n",
    "\n",
    "nltk.download('stopwords')\n",
    "\n",
    "def remove_stopwords(l):\n",
    "    \"\"\"\n",
    "    Remove English stopwords from a list of strings.\n",
    "\n",
    "    Args:\n",
    "        l: A list of strings.\n",
    "\n",
    "    Returns:\n",
    "        A list of strings after stop words are removed.\n",
    "    \"\"\"\n",
    "    \n",
    "    \n",
    "    return ([w for w in l if w not in stopwords.words('english')])"
   ]
  },
  {
   "cell_type": "markdown",
   "metadata": {},
   "source": [
    "### Prepare Textual Data for Sentiment Analysis\n",
    "\n",
    "Now, apply the functions you have written in Challenge 1 to your whole data set. These functions include:\n",
    "\n",
    "* `clean_up()`\n",
    "\n",
    "* `tokenize()`\n",
    "\n",
    "* `stem_and_lemmatize()`\n",
    "\n",
    "* `remove_stopwords()`\n",
    "\n",
    "Create a new column called `text_processed` in the dataframe to contain the processed data. At the end, your `text_processed` column should contain lists of word tokens that are cleaned up. Your data should look like below:\n",
    "\n",
    "![Processed Data](data-cleaning-results.png)"
   ]
  },
  {
   "cell_type": "code",
   "execution_count": 29,
   "metadata": {},
   "outputs": [
    {
     "data": {
      "text/html": [
       "<div>\n",
       "<style scoped>\n",
       "    .dataframe tbody tr th:only-of-type {\n",
       "        vertical-align: middle;\n",
       "    }\n",
       "\n",
       "    .dataframe tbody tr th {\n",
       "        vertical-align: top;\n",
       "    }\n",
       "\n",
       "    .dataframe thead th {\n",
       "        text-align: right;\n",
       "    }\n",
       "</style>\n",
       "<table border=\"1\" class=\"dataframe\">\n",
       "  <thead>\n",
       "    <tr style=\"text-align: right;\">\n",
       "      <th></th>\n",
       "      <th>target</th>\n",
       "      <th>id</th>\n",
       "      <th>date</th>\n",
       "      <th>flag</th>\n",
       "      <th>user</th>\n",
       "      <th>text</th>\n",
       "      <th>text_processed</th>\n",
       "    </tr>\n",
       "  </thead>\n",
       "  <tbody>\n",
       "    <tr>\n",
       "      <th>1264279</th>\n",
       "      <td>4</td>\n",
       "      <td>1999215921</td>\n",
       "      <td>Mon Jun 01 19:50:21 PDT 2009</td>\n",
       "      <td>NO_QUERY</td>\n",
       "      <td>TheTAZZone</td>\n",
       "      <td>@verwon that's why you're so much fun to play ...</td>\n",
       "      <td>[verwon, whi, much, fun, play]</td>\n",
       "    </tr>\n",
       "    <tr>\n",
       "      <th>1263553</th>\n",
       "      <td>4</td>\n",
       "      <td>1999062308</td>\n",
       "      <td>Mon Jun 01 19:34:39 PDT 2009</td>\n",
       "      <td>NO_QUERY</td>\n",
       "      <td>rifter</td>\n",
       "      <td>@tobinrogers All I did, was add the IFC part, ...</td>\n",
       "      <td>[tobinrog, wa, add, ifc, part, coupl, link]</td>\n",
       "    </tr>\n",
       "    <tr>\n",
       "      <th>1182850</th>\n",
       "      <td>4</td>\n",
       "      <td>1982328653</td>\n",
       "      <td>Sun May 31 10:59:32 PDT 2009</td>\n",
       "      <td>NO_QUERY</td>\n",
       "      <td>painyboi</td>\n",
       "      <td>@weezereire brings a tear to my eye  LOL thanks!</td>\n",
       "      <td>[weezereir, bring, tear, eye, lol, thank]</td>\n",
       "    </tr>\n",
       "    <tr>\n",
       "      <th>898182</th>\n",
       "      <td>4</td>\n",
       "      <td>1693535812</td>\n",
       "      <td>Sun May 03 22:52:21 PDT 2009</td>\n",
       "      <td>NO_QUERY</td>\n",
       "      <td>blogworks</td>\n",
       "      <td>@Su Sure you can. If you author more than one ...</td>\n",
       "      <td>[su, sure, author, one, blog, may, submit, man...</td>\n",
       "    </tr>\n",
       "    <tr>\n",
       "      <th>616861</th>\n",
       "      <td>0</td>\n",
       "      <td>2226823479</td>\n",
       "      <td>Thu Jun 18 12:25:56 PDT 2009</td>\n",
       "      <td>NO_QUERY</td>\n",
       "      <td>iHeather_XD</td>\n",
       "      <td>Not going to LK's.  Maybe going to Catherine's...</td>\n",
       "      <td>[go, lk, mayb, go, catherin, answer, dang, phone]</td>\n",
       "    </tr>\n",
       "  </tbody>\n",
       "</table>\n",
       "</div>"
      ],
      "text/plain": [
       "         target          id                          date      flag  \\\n",
       "1264279       4  1999215921  Mon Jun 01 19:50:21 PDT 2009  NO_QUERY   \n",
       "1263553       4  1999062308  Mon Jun 01 19:34:39 PDT 2009  NO_QUERY   \n",
       "1182850       4  1982328653  Sun May 31 10:59:32 PDT 2009  NO_QUERY   \n",
       "898182        4  1693535812  Sun May 03 22:52:21 PDT 2009  NO_QUERY   \n",
       "616861        0  2226823479  Thu Jun 18 12:25:56 PDT 2009  NO_QUERY   \n",
       "\n",
       "                user                                               text  \\\n",
       "1264279   TheTAZZone  @verwon that's why you're so much fun to play ...   \n",
       "1263553       rifter  @tobinrogers All I did, was add the IFC part, ...   \n",
       "1182850     painyboi   @weezereire brings a tear to my eye  LOL thanks!   \n",
       "898182     blogworks  @Su Sure you can. If you author more than one ...   \n",
       "616861   iHeather_XD  Not going to LK's.  Maybe going to Catherine's...   \n",
       "\n",
       "                                            text_processed  \n",
       "1264279                     [verwon, whi, much, fun, play]  \n",
       "1263553        [tobinrog, wa, add, ifc, part, coupl, link]  \n",
       "1182850          [weezereir, bring, tear, eye, lol, thank]  \n",
       "898182   [su, sure, author, one, blog, may, submit, man...  \n",
       "616861   [go, lk, mayb, go, catherin, answer, dang, phone]  "
      ]
     },
     "execution_count": 29,
     "metadata": {},
     "output_type": "execute_result"
    }
   ],
   "source": [
    "# your code here\n",
    "\n",
    "# Apply the clean_up function to the 'text' column\n",
    "tweets['text_processed'] = tweets['text'].apply(clean_up)\n",
    "\n",
    "# Apply the tokenize function to the 'text_processed' column\n",
    "tweets['text_processed'] = tweets['text_processed'].apply(tokenize)\n",
    "\n",
    "# Apply the stem_and_lemmatize function to the 'text_processed' column\n",
    "tweets['text_processed'] = tweets['text_processed'].apply(stem_and_lemmatize)\n",
    "\n",
    "# Apply the remove_stopwords function to the 'text_processed' column\n",
    "tweets['text_processed'] = tweets['text_processed'].apply(remove_stopwords)\n",
    "\n",
    "# Display the DataFrame with the new text_processed column\n",
    "tweets.head()"
   ]
  },
  {
   "cell_type": "markdown",
   "metadata": {},
   "source": [
    "### Creating Bag of Words\n",
    "\n",
    "The purpose of this step is to create a [bag of words](https://en.wikipedia.org/wiki/Bag-of-words_model) from the processed data. The bag of words contains all the unique words in your whole text body (a.k.a. *corpus*) with the number of occurrence of each word. It will allow you to understand which words are the most important features across the whole corpus.\n",
    "\n",
    "Also, you can imagine you will have a massive set of words. The less important words (i.e. those of very low number of occurrence) do not contribute much to the sentiment. Therefore, you only need to use the most important words to build your feature set in the next step. In our case, we will use the top 5,000 words with the highest frequency to build the features.\n",
    "\n",
    "In the cell below, combine all the words in `text_processed` and calculate the frequency distribution of all words. A convenient library to calculate the term frequency distribution is NLTK's `FreqDist` class ([documentation](https://www.nltk.org/api/nltk.html#module-nltk.probability)). Then select the top 5,000 words from the frequency distribution."
   ]
  },
  {
   "cell_type": "code",
   "execution_count": 30,
   "metadata": {},
   "outputs": [
    {
     "data": {
      "text/plain": [
       "[('go', 836), ('day', 725), ('get', 661), ('wa', 613), ('good', 597)]"
      ]
     },
     "execution_count": 30,
     "metadata": {},
     "output_type": "execute_result"
    }
   ],
   "source": [
    "# your code here\n",
    "from nltk.probability import FreqDist\n",
    "\n",
    "# Combine all words in the text_processed column into a single list\n",
    "all_words = [word for sublist in tweets['text_processed'] for word in sublist]\n",
    "\n",
    "# Calculate the frequency distribution of all words\n",
    "freq_dist = FreqDist(all_words)\n",
    "\n",
    "# Select the top 5,000 words\n",
    "top_words = freq_dist.most_common(5000)\n",
    "\n",
    "# Display the top 5 words\n",
    "top_words[:5]"
   ]
  },
  {
   "cell_type": "markdown",
   "metadata": {},
   "source": [
    "### Building Features\n",
    "\n",
    "Now let's build the features. Using the top 5,000 words, create a 2-dimensional matrix to record whether each of those words is contained in each document (tweet). Then you also have an output column to indicate whether the sentiment in each tweet is positive. For example, assuming your bag of words has 5 items (`['one', 'two', 'three', 'four', 'five']`) out of 4 documents (`['A', 'B', 'C', 'D']`), your feature set is essentially:\n",
    "\n",
    "| Doc | one | two | three | four | five | is_positive |\n",
    "|---|---|---|---|---|---|---|\n",
    "| A | True | False | False | True | False | True |\n",
    "| B | False | False | False | True | True | False |\n",
    "| C | False | True | False | False | False | True |\n",
    "| D | True | False | False | False | True | False|\n",
    "\n",
    "However, because the `nltk.NaiveBayesClassifier.train` class we will use in the next step does not work with Pandas dataframe, the structure of your feature set should be converted to the Python list looking like below:\n",
    "\n",
    "```python\n",
    "[\n",
    "\t({\n",
    "\t\t'one': True,\n",
    "\t\t'two': False,\n",
    "\t\t'three': False,\n",
    "\t\t'four': True,\n",
    "\t\t'five': False\n",
    "\t}, True),\n",
    "\t({\n",
    "\t\t'one': False,\n",
    "\t\t'two': False,\n",
    "\t\t'three': False,\n",
    "\t\t'four': True,\n",
    "\t\t'five': True\n",
    "\t}, False),\n",
    "\t({\n",
    "\t\t'one': False,\n",
    "\t\t'two': True,\n",
    "\t\t'three': False,\n",
    "\t\t'four': False,\n",
    "\t\t'five': False\n",
    "\t}, True),\n",
    "\t({\n",
    "\t\t'one': True,\n",
    "\t\t'two': False,\n",
    "\t\t'three': False,\n",
    "\t\t'four': False,\n",
    "\t\t'five': True\n",
    "\t}, False)\n",
    "]\n",
    "```\n",
    "\n",
    "To help you in this step, watch the [following video](https://www.youtube.com/watch?v=-vVskDsHcVc) to learn how to build the feature set with Python and NLTK. The source code in this video can be found [here](https://pythonprogramming.net/words-as-features-nltk-tutorial/)."
   ]
  },
  {
   "cell_type": "markdown",
   "metadata": {},
   "source": [
    "[![Building Features](building-features.jpg)](https://www.youtube.com/watch?v=-vVskDsHcVc)"
   ]
  },
  {
   "cell_type": "code",
   "execution_count": 37,
   "metadata": {},
   "outputs": [
    {
     "name": "stdout",
     "output_type": "stream",
     "text": [
      "({('go', 836): False, ('day', 725): False, ('get', 661): False, ('wa', 613): False, ('good', 597): False, ('thi', 568): False, ('like', 540): False, ('work', 534): False, ('love', 504): False, ('quot', 501): False, ('today', 469): False, ('got', 469): False, ('u', 455): False, ('time', 407): False, ('thank', 384): False, ('lol', 382): False, ('back', 362): False, ('one', 358): False, ('want', 355): False, ('feel', 340): False, ('im', 335): False, ('know', 333): False, ('think', 322): False, ('miss', 321): False, ('realli', 320): False, ('amp', 310): False, ('night', 286): False, ('still', 284): False, ('come', 279): False, ('watch', 276): False, ('hope', 276): False, ('new', 275): False, ('na', 272): False, ('see', 269): False, ('well', 263): False, ('look', 258): False, ('need', 258): False, ('make', 257): False, ('home', 255): False, ('morn', 253): False, ('oh', 240): False, ('last', 238): False, ('ha', 234): False, ('twitter', 232): False, ('wait', 229): False, ('wish', 227): False, ('much', 221): False, ('follow', 210): False, ('sleep', 206): False, ('great', 204): False, ('tomorrow', 202): False, ('haha', 200): False, ('fun', 194): False, ('whi', 191): False, ('tri', 187): False, ('sorri', 185): False, ('onli', 174): False, ('friend', 170): False, ('veri', 166): False, ('say', 164): False, ('take', 164): False, ('way', 164): False, ('sad', 163): False, ('week', 161): False, ('bed', 159): False, ('right', 159): False, ('bad', 158): False, ('tonight', 156): False, ('happi', 155): False, ('tweet', 154): False, ('even', 149): False, ('hate', 148): False, ('would', 147): False, ('nice', 147): False, ('show', 147): False, ('gon', 146): False, ('better', 145): False, ('yeah', 141): False, ('thing', 141): False, ('peopl', 140): False, ('school', 138): False, ('though', 138): False, ('could', 134): False, ('use', 133): False, ('hour', 132): False, ('hi', 131): False, ('final', 130): False, ('let', 129): False, ('start', 127): False, ('bore', 126): False, ('play', 125): False, ('x', 125): False, ('ye', 123): False, ('awesom', 121): False, ('help', 121): False, ('dont', 120): False, ('never', 119): False, ('best', 117): False, ('phone', 116): False, ('wan', 116): False, ('tire', 112): False, ('guy', 111): False, ('littl', 111): False, ('long', 109): False, ('lt', 109): False, ('alway', 109): False, ('sure', 108): False, ('cant', 108): False, ('hey', 108): False, ('weekend', 107): False, ('life', 107): False, ('becaus', 103): False, ('first', 103): False, ('plea', 103): False, ('call', 102): False, ('next', 102): False, ('soon', 102): False, ('talk', 102): False, ('year', 102): False, ('movi', 101): False, ('everyon', 101): False, ('lot', 100): False, ('girl', 100): False, ('sick', 100): False, ('ok', 100): False, ('rain', 98): False, ('alreadi', 95): False, ('n', 94): False, ('keep', 93): False, ('done', 92): False, ('suck', 92): False, ('b', 92): False, ('ur', 92): False, ('ani', 90): False, ('find', 90): False, ('away', 89): False, ('someth', 89): False, ('head', 89): False, ('song', 88): False, ('guess', 88): False, ('read', 88): False, ('hous', 86): False, ('anoth', 86): False, ('exam', 85): False, ('left', 83): False, ('eat', 83): False, ('leav', 82): False, ('finish', 82): False, ('cool', 82): False, ('game', 81): False, ('yet', 81): False, ('hear', 80): False, ('listen', 80): False, ('lost', 79): False, ('found', 79): False, ('pretti', 79): False, ('doe', 78): False, ('live', 78): False, ('yay', 76): False, ('earli', 76): False, ('made', 76): False, ('check', 76): False, ('enjoy', 75): False, ('babi', 75): False, ('excit', 74): False, ('wow', 74): False, ('happen', 74): False, ('com', 73): False, ('sound', 73): False, ('readi', 73): False, ('gt', 73): False, ('amaz', 73): False, ('stop', 73): False, ('meet', 73): False, ('omg', 73): False, ('thought', 72): False, ('wonder', 72): False, ('studi', 72): False, ('hurt', 72): False, ('old', 72): False, ('mean', 72): False, ('mayb', 71): False, ('hot', 71): False, ('parti', 71): False, ('sweet', 71): False, ('befor', 71): False, ('around', 70): False, ('ta', 70): False, ('end', 70): False, ('world', 70): False, ('pic', 70): False, ('man', 70): False, ('w', 70): False, ('ever', 70): False, ('damn', 69): False, ('ya', 68): False, ('give', 67): False, ('th', 67): False, ('car', 66): False, ('god', 66): False, ('p', 66): False, ('sun', 66): False, ('bit', 66): False, ('later', 66): False, ('birthday', 66): False, ('summer', 65): False, ('sunday', 65): False, ('stay', 65): False, ('pictur', 65): False, ('post', 64): False, ('run', 64): False, ('late', 64): False, ('went', 64): False, ('dream', 64): False, ('someon', 63): False, ('tell', 63): False, ('said', 63): False, ('might', 63): False, ('glad', 63): False, ('video', 63): False, ('real', 63): False, ('cold', 62): False, ('month', 62): False, ('weather', 61): False, ('mom', 61): False, ('ugh', 61): False, ('noth', 61): False, ('onc', 61): False, ('saturday', 61): False, ('put', 61): False, ('beauti', 60): False, ('updat', 60): False, ('actual', 60): False, ('buy', 60): False, ('friday', 59): False, ('big', 58): False, ('least', 58): False, ('saw', 58): False, ('write', 57): False, ('die', 57): False, ('anyon', 57): False, ('famili', 57): False, ('okay', 56): False, ('stuff', 56): False, ('lunch', 56): False, ('win', 56): False, ('aww', 56): False, ('boy', 55): False, ('kid', 55): False, ('hang', 55): False, ('music', 55): False, ('book', 55): False, ('two', 55): False, ('must', 55): False, ('believ', 54): False, ('caus', 54): False, ('luck', 54): False, ('move', 54): False, ('fuck', 54): False, ('till', 53): False, ('also', 53): False, ('yesterday', 53): False, ('gone', 52): False, ('everi', 52): False, ('monday', 52): False, ('wake', 52): False, ('xx', 51): False, ('shit', 51): False, ('shop', 51): False, ('job', 51): False, ('r', 51): False, ('ask', 51): False, ('cute', 51): False, ('may', 50): False, ('aw', 50): False, ('woke', 50): False, ('hard', 50): False, ('rest', 50): False, ('tho', 50): False, ('didnt', 50): False, ('mine', 50): False, ('mani', 49): False, ('anyth', 49): False, ('clean', 49): False, ('text', 48): False, ('cri', 48): False, ('ill', 48): False, ('class', 47): False, ('everyth', 47): False, ('www', 47): False, ('iphon', 47): False, ('true', 46): False, ('dinner', 46): False, ('plan', 46): False, ('brother', 46): False, ('seem', 46): False, ('hair', 46): False, ('place', 46): False, ('total', 46): False, ('hahaha', 46): False, ('bring', 45): False, ('send', 45): False, ('pay', 45): False, ('sit', 45): False, ('crazi', 45): False, ('food', 45): False, ('dad', 45): False, ('heart', 45): False, ('blog', 44): False, ('forward', 44): False, ('far', 44): False, ('break', 44): False, ('funni', 44): False, ('fan', 44): False, ('outsid', 43): False, ('close', 43): False, ('ah', 43): False, ('anymor', 43): False, ('stupid', 43): False, ('el', 43): False, ('add', 42): False, ('drink', 42): False, ('walk', 42): False, ('welcom', 42): False, ('turn', 42): False, ('rock', 42): False, ('free', 42): False, ('headach', 41): False, ('minut', 41): False, ('abl', 41): False, ('pm', 41): False, ('without', 41): False, ('almost', 41): False, ('dog', 41): False, ('part', 40): False, ('money', 40): False, ('hit', 40): False, ('idea', 40): False, ('awak', 40): False, ('busi', 40): False, ('internet', 40): False, ('poor', 40): False, ('e', 39): False, ('drive', 39): False, ('c', 39): False, ('name', 38): False, ('sooo', 38): False, ('trip', 38): False, ('hello', 38): False, ('hell', 38): False, ('repli', 38): False, ('test', 38): False, ('instead', 38): False, ('eye', 37): False, ('kinda', 37): False, ('seen', 37): False, ('moment', 37): False, ('kill', 37): False, ('probabl', 37): False, ('pain', 37): False, ('face', 37): False, ('air', 36): False, ('wrong', 36): False, ('sunni', 36): False, ('coffe', 36): False, ('open', 36): False, ('came', 36): False, ('g', 36): False, ('heard', 36): False, ('afternoon', 35): False, ('care', 35): False, ('room', 35): False, ('nite', 35): False, ('top', 35): False, ('sinc', 35): False, ('goodnight', 35): False, ('ddlovato', 35): False, ('soo', 35): False, ('hand', 34): False, ('onlin', 34): False, ('fail', 34): False, ('vote', 34): False, ('forgot', 34): False, ('took', 34): False, ('hug', 34): False, ('quit', 34): False, ('hehe', 34): False, ('chang', 34): False, ('goe', 34): False, ('beach', 34): False, ('wear', 34): False, ('ago', 33): False, ('fix', 33): False, ('breakfast', 33): False, ('mileycyru', 33): False, ('enough', 33): False, ('rememb', 33): False, ('citi', 33): False, ('worri', 32): False, ('danc', 32): False, ('pick', 32): False, ('visit', 32): False, ('either', 32): False, ('sister', 32): False, ('news', 32): False, ('word', 32): False, ('train', 32): False, ('facebook', 31): False, ('stuck', 31): False, ('pack', 31): False, ('fine', 31): False, ('st', 31): False, ('xd', 31): False, ('boo', 31): False, ('hr', 31): False, ('comput', 31): False, ('offic', 30): False, ('tv', 30): False, ('half', 30): False, ('pas', 30): False, ('super', 30): False, ('told', 30): False, ('shower', 30): False, ('london', 30): False, ('mind', 30): False, ('cours', 30): False, ('h', 30): False, ('l', 30): False, ('page', 30): False, ('togeth', 30): False, ('person', 30): False, ('sore', 29): False, ('k', 29): False, ('learn', 29): False, ('star', 29): False, ('crap', 29): False, ('store', 29): False, ('tour', 29): False, ('list', 29): False, ('youtub', 29): False, ('easi', 29): False, ('email', 29): False, ('date', 29): False, ('cuz', 29): False, ('set', 29): False, ('holiday', 29): False, ('awww', 29): False, ('definit', 29): False, ('nap', 29): False, ('dead', 29): False, ('favorit', 29): False, ('number', 29): False, ('link', 28): False, ('homework', 28): False, ('congrat', 28): False, ('btw', 28): False, ('forev', 28): False, ('co', 28): False, ('stori', 28): False, ('whole', 28): False, ('ive', 28): False, ('cheer', 28): False, ('wont', 28): False, ('catch', 28): False, ('ppl', 28): False, ('sometim', 28): False, ('perfect', 28): False, ('ticket', 27): False, ('soooo', 27): False, ('album', 27): False, ('park', 27): False, ('ladi', 27): False, ('full', 27): False, ('knew', 27): False, ('differ', 27): False, ('problem', 27): False, ('v', 27): False, ('dude', 27): False, ('download', 27): False, ('kind', 27): False, ('cook', 27): False, ('alon', 27): False, ('cat', 27): False, ('graduat', 27): False, ('scare', 27): False, ('laugh', 26): False, ('min', 26): False, ('til', 26): False, ('uk', 26): False, ('award', 26): False, ('mother', 26): False, ('spend', 26): False, ('flight', 26): False, ('slept', 26): False, ('fb', 26): False, ('sing', 26): False, ('interest', 26): False, ('comment', 26): False, ('tuesday', 26): False, ('broke', 26): False, ('dress', 26): False, ('ride', 26): False, ('gym', 26): False, ('sigh', 26): False, ('concert', 26): False, ('june', 26): False, ('tommcfli', 26): False, ('short', 26): False, ('horribl', 26): False, ('followfriday', 25): False, ('save', 25): False, ('forget', 25): False, ('second', 25): False, ('le', 25): False, ('anyway', 25): False, ('photo', 25): False, ('lmao', 25): False, ('fall', 25): False, ('season', 25): False, ('mum', 25): False, ('messag', 24): False, ('jealou', 24): False, ('blue', 24): False, ('leg', 24): False, ('water', 24): False, ('ach', 24): False, ('math', 24): False, ('team', 24): False, ('myspac', 24): False, ('jona', 24): False, ('upset', 24): False, ('episod', 24): False, ('hungri', 24): False, ('vacat', 24): False, ('chat', 24): False, ('coupl', 23): False, ('father', 23): False, ('side', 23): False, ('stress', 23): False, ('wed', 23): False, ('la', 23): False, ('red', 23): False, ('goin', 23): False, ('share', 23): False, ('absolut', 23): False, ('ahh', 23): False, ('bbq', 23): False, ('english', 23): False, ('depress', 23): False, ('weird', 23): False, ('high', 23): False, ('decid', 23): False, ('bye', 23): False, ('bought', 23): False, ('order', 23): False, ('unfortun', 23): False, ('foot', 23): False, ('figur', 23): False, ('ipod', 22): False, ('church', 22): False, ('ice', 22): False, ('bodi', 22): False, ('sign', 22): False, ('agre', 22): False, ('f', 22): False, ('babe', 22): False, ('yr', 22): False, ('bless', 22): False, ('laptop', 22): False, ('servic', 22): False, ('lucki', 22): False, ('dear', 22): False, ('ouch', 22): False, ('smile', 22): False, ('site', 22): False, ('town', 22): False, ('asleep', 21): False, ('relax', 21): False, ('hmm', 21): False, ('possibl', 21): False, ('cut', 21): False, ('age', 21): False, ('mtv', 21): False, ('tea', 21): False, ('band', 21): False, ('film', 21): False, ('moon', 21): False, ('fli', 21): False, ('worth', 21): False, ('shoot', 21): False, ('note', 21): False, ('pray', 21): False, ('art', 21): False, ('cover', 20): False, ('past', 20): False, ('yummi', 20): False, ('googl', 20): False, ('reason', 20): False, ('mood', 20): False, ('design', 20): False, ('cancel', 20): False, ('sort', 20): False, ('ate', 20): False, ('tast', 20): False, ('kick', 20): False, ('serious', 20): False, ('via', 20): False, ('australia', 20): False, ('flu', 20): False, ('join', 20): False, ('bout', 20): False, ('david', 20): False, ('sat', 20): False, ('yea', 20): False, ('line', 20): False, ('lose', 20): False, ('expect', 20): False, ('finger', 20): False, ('sent', 20): False, ('parent', 20): False, ('appar', 20): False, ('mail', 20): False, ('luv', 20): False, ('shoe', 20): False, ('garden', 20): False, ('worst', 20): False, ('usual', 20): False, ('em', 20): False, ('black', 20): False, ('door', 20): False, ('answer', 19): False, ('huge', 19): False, ('isnt', 19): False, ('power', 19): False, ('freak', 19): False, ('chocol', 19): False, ('cake', 19): False, ('shall', 19): False, ('chanc', 19): False, ('chicken', 19): False, ('fish', 19): False, ('lie', 19): False, ('hmmm', 19): False, ('three', 19): False, ('realiz', 19): False, ('block', 19): False, ('havent', 19): False, ('green', 19): False, ('upload', 19): False, ('juli', 19): False, ('bday', 19): False, ('mad', 19): False, ('bar', 19): False, ('chill', 19): False, ('wit', 19): False, ('mr', 19): False, ('vip', 19): False, ('fresh', 18): False, ('lil', 18): False, ('demi', 18): False, ('annoy', 18): False, ('ad', 18): False, ('especi', 18): False, ('confus', 18): False, ('import', 18): False, ('slow', 18): False, ('invit', 18): False, ('vega', 18): False, ('rather', 18): False, ('met', 18): False, ('fact', 18): False, ('heat', 18): False, ('upgrad', 18): False, ('nope', 18): False, ('revis', 18): False, ('shirt', 18): False, ('nd', 18): False, ('window', 18): False, ('beat', 18): False, ('idk', 18): False, ('xoxo', 18): False, ('broken', 18): False, ('hubbi', 18): False, ('colleg', 18): False, ('sunshin', 18): False, ('offici', 18): False, ('throw', 18): False, ('paper', 17): False, ('suppos', 17): False, ('lazi', 17): False, ('nick', 17): False, ('voic', 17): False, ('glass', 17): False, ('extra', 17): False, ('ju', 17): False, ('hill', 17): False, ('spot', 17): False, ('promis', 17): False, ('bum', 17): False, ('futur', 17): False, ('profil', 17): False, ('storm', 17): False, ('drunk', 17): False, ('boyfriend', 17): False, ('understand', 17): False, ('load', 17): False, ('wors', 17): False, ('feed', 17): False, ('camp', 17): False, ('addict', 17): False, ('cross', 17): False, ('bike', 17): False, ('ahhh', 17): False, ('yum', 17): False, ('child', 17): False, ('safe', 17): False, ('burn', 17): False, ('pool', 16): False, ('stand', 16): False, ('meant', 16): False, ('card', 16): False, ('point', 16): False, ('hahah', 16): False, ('pop', 16): False, ('shine', 16): False, ('sim', 16): False, ('piss', 16): False, ('interview', 16): False, ('tom', 16): False, ('miley', 16): False, ('thursday', 16): False, ('wednesday', 16): False, ('guitar', 16): False, ('sky', 16): False, ('taylor', 16): False, ('warm', 16): False, ('complet', 16): False, ('j', 16): False, ('joke', 16): False, ('return', 16): False, ('dark', 16): False, ('shout', 16): False, ('disappoint', 16): False, ('earlier', 16): False, ('bird', 16): False, ('view', 16): False, ('surpris', 15): False, ('due', 15): False, ('case', 15): False, ('somewher', 15): False, ('mile', 15): False, ('near', 15): False, ('cream', 15): False, ('gettin', 15): False, ('shot', 15): False, ('gut', 15): False, ('felt', 15): False, ('matt', 15): False, ('alot', 15): False, ('cousin', 15): False, ('low', 15): False, ('hotel', 15): False, ('issu', 15): False, ('arriv', 15): False, ('congratul', 15): False, ('doin', 15): False, ('gener', 15): False, ('blood', 15): False, ('cooki', 15): False, ('mate', 15): False, ('practic', 15): False, ('si', 15): False, ('pink', 15): False, ('radio', 15): False, ('base', 15): False, ('bloodi', 15): False, ('club', 15): False, ('bro', 15): False, ('spent', 15): False, ('account', 15): False, ('cd', 15): False, ('vid', 15): False, ('replac', 15): False, ('bear', 15): False, ('cough', 15): False, ('memori', 15): False, ('fri', 15): False, ('throat', 14): False, ('wash', 14): False, ('gorgeou', 14): False, ('shame', 14): False, ('type', 14): False, ('proud', 14): False, ('remind', 14): False, ('darn', 14): False, ('avail', 14): False, ('plu', 14): False, ('cloth', 14): False, ('small', 14): False, ('doubl', 14): False, ('touch', 14): False, ('fire', 14): False, ('receiv', 14): False, ('plz', 14): False, ('nobodi', 14): False, ('manag', 14): False, ('medium', 14): False, ('airport', 14): False, ('question', 14): False, ('stick', 14): False, ('fell', 14): False, ('lvatt', 14): False, ('goodby', 14): False, ('de', 14): False, ('lone', 14): False, ('present', 14): False, ('chees', 14): False, ('doesnt', 14): False, ('normal', 14): False, ('appl', 14): False, ('speak', 14): False, ('self', 14): False, ('gave', 14): False, ('swim', 14): False, ('ruin', 14): False, ('doctor', 14): False, ('hospit', 14): False, ('yep', 14): False, ('xxx', 14): False, ('fever', 14): False, ('lay', 14): False, ('daughter', 14): False, ('young', 14): False, ('davidarchi', 14): False, ('countri', 14): False, ('brazil', 13): False, ('twilight', 13): False, ('nearli', 13): False, ('grow', 13): False, ('macbook', 13): False, ('piec', 13): False, ('notic', 13): False, ('south', 13): False, ('app', 13): False, ('special', 13): False, ('record', 13): False, ('prepar', 13): False, ('fav', 13): False, ('tht', 13): False, ('behind', 13): False, ('peac', 13): False, ('marathon', 13): False, ('exhaust', 13): False, ('loss', 13): False, ('dm', 13): False, ('seriou', 13): False, ('lesson', 13): False, ('system', 13): False, ('except', 13): False, ('mark', 13): False, ('heavi', 13): False, ('search', 13): False, ('inspir', 13): False, ('prob', 13): False, ('john', 13): False, ('sarah', 13): False, ('nervou', 13): False, ('buddi', 13): False, ('sadli', 13): False, ('jonasbroth', 13): False, ('track', 13): False, ('girlfriend', 13): False, ('product', 13): False, ('road', 13): False, ('blah', 13): False, ('fit', 13): False, ('mac', 13): False, ('whatev', 13): False, ('afford', 13): False, ('project', 13): False, ('ton', 13): False, ('key', 13): False, ('histori', 13): False, ('wat', 13): False, ('mama', 13): False, ('mommi', 13): False, ('drop', 13): False, ('thx', 13): False, ('puppi', 13): False, ('tha', 13): False, ('anim', 13): False, ('dang', 12): False, ('burnt', 12): False, ('sexi', 12): False, ('smell', 12): False, ('taken', 12): False, ('roll', 12): False, ('bag', 12): False, ('ran', 12): False, ('consid', 12): False, ('gig', 12): False, ('fast', 12): False, ('da', 12): False, ('yah', 12): False, ('deserv', 12): False, ('tummi', 12): False, ('stomach', 12): False, ('doubt', 12): False, ('convers', 12): False, ('longer', 12): False, ('round', 12): False, ('pro', 12): False, ('tip', 12): False, ('travel', 12): False, ('tweetdeck', 12): False, ('apart', 12): False, ('xo', 12): False, ('mi', 12): False, ('five', 12): False, ('wife', 12): False, ('websit', 12): False, ('ep', 12): False, ('hold', 12): False, ('mcfli', 12): False, ('desk', 12): False, ('major', 12): False, ('troubl', 12): False, ('sleepi', 12): False, ('beer', 12): False, ('tune', 12): False, ('canada', 12): False, ('folk', 12): False, ('celebr', 12): False, ('credit', 12): False, ('crash', 12): False, ('bare', 12): False, ('raini', 12): False, ('allow', 12): False, ('suggest', 12): False, ('deal', 12): False, ('bill', 12): False, ('form', 12): False, ('watchin', 12): False, ('begin', 12): False, ('stream', 12): False, ('posit', 12): False, ('mo', 12): False, ('forc', 12): False, ('perform', 12): False, ('bb', 12): False, ('chick', 12): False, ('expens', 11): False, ('respond', 11): False, ('retweet', 11): False, ('hun', 11): False, ('ooh', 11): False, ('rip', 11): False, ('grad', 11): False, ('step', 11): False, ('hilari', 11): False, ('neck', 11): False, ('ng', 11): False, ('gosh', 11): False, ('mess', 11): False, ('kiss', 11): False, ('info', 11): False, ('spam', 11): False, ('event', 11): False, ('random', 11): False, ('dri', 11): False, ('player', 11): False, ('nah', 11): False, ('fair', 11): False, ('deep', 11): False, ('jb', 11): False, ('dvd', 11): False, ('proper', 11): False, ('match', 11): False, ('impress', 11): False, ('bff', 11): False, ('butt', 11): False, ('dumb', 11): False, ('releas', 11): False, ('fantast', 11): False, ('nyc', 11): False, ('mari', 11): False, ('woo', 11): False, ('hoo', 11): False, ('web', 11): False, ('frustrat', 11): False, ('non', 11): False, ('idol', 11): False, ('rd', 11): False, ('cup', 11): False, ('session', 11): False, ('bath', 11): False, ('excus', 11): False, ('bc', 11): False, ('argh', 11): False, ('woman', 11): False, ('american', 11): False, ('laundri', 11): False, ('wtf', 11): False, ('continu', 11): False, ('marri', 11): False, ('husband', 11): False, ('kitti', 11): False, ('custom', 11): False, ('sell', 11): False, ('sale', 11): False, ('donniewahlberg', 11): False, ('chicago', 11): False, ('franc', 11): False, ('student', 11): False, ('sex', 11): False, ('mmm', 11): False, ('respons', 11): False, ('tree', 11): False, ('activ', 11): False, ('awhil', 11): False, ('sweeti', 11): False, ('camera', 11): False, ('result', 11): False, ('banana', 11): False, ('traffic', 11): False, ('huh', 11): False, ('twitpic', 11): False, ('appreci', 11): False, ('soooooo', 11): False, ('plane', 11): False, ('land', 11): False, ('tear', 10): False, ('contest', 10): False, ('obvious', 10): False, ('arm', 10): False, ('bank', 10): False, ('juic', 10): False, ('sooooo', 10): False, ('seat', 10): False, ('singl', 10): False, ('america', 10): False, ('front', 10): False, ('candi', 10): False, ('ohh', 10): False, ('mornin', 10): False, ('code', 10): False, ('oop', 10): False, ('wind', 10): False, ('shock', 10): False, ('mall', 10): False, ('white', 10): False, ('recent', 10): False, ('experi', 10): False, ('jess', 10): False, ('gay', 10): False, ('success', 10): False, ('bos', 10): False, ('ish', 10): False, ('insid', 10): False, ('badli', 10): False, ('bug', 10): False, ('chem', 10): False, ('contact', 10): False, ('spring', 10): False, ('file', 10): False, ('teacher', 10): False, ('peterfacinelli', 10): False, ('midnight', 10): False, ('killer', 10): False, ('surgeri', 10): False, ('pull', 10): False, ('jay', 10): False, ('theater', 10): False, ('son', 10): False, ('four', 10): False, ('yall', 10): False, ('milk', 10): False, ('scari', 10): False, ('rubbish', 10): False, ('hero', 10): False, ('version', 10): False, ('bet', 10): False, ('exactli', 10): False, ('bu', 10): False, ('ff', 10): False, ('germani', 10): False, ('bother', 10): False, ('mix', 10): False, ('outta', 10): False, ('thru', 10): False, ('bitch', 10): False, ('florida', 10): False, ('dure', 10): False, ('review', 10): False, ('ador', 10): False, ('twice', 10): False, ('state', 10): False, ('screen', 10): False, ('awwww', 10): False, ('score', 10): False, ('woohoo', 10): False, ('atl', 10): False, ('ignor', 10): False, ('compani', 10): False, ('light', 10): False, ('adam', 10): False, ('client', 10): False, ('batteri', 10): False, ('chip', 9): False, ('ball', 9): False, ('six', 9): False, ('hangov', 9): False, ('stage', 9): False, ('copi', 9): False, ('current', 9): False, ('creativ', 9): False, ('caught', 9): False, ('favourit', 9): False, ('rehears', 9): False, ('shut', 9): False, ('snow', 9): False, ('squar', 9): False, ('remain', 9): False, ('alright', 9): False, ('everyday', 9): False, ('feelin', 9): False, ('entir', 9): False, ('yey', 9): False, ('settl', 9): False, ('chillin', 9): False, ('research', 9): False, ('xbox', 9): False, ('japan', 9): False, ('yo', 9): False, ('control', 9): False, ('stoke', 9): False, ('sandwich', 9): False, ('fill', 9): False, ('di', 9): False, ('boston', 9): False, ('support', 9): False, ('delet', 9): False, ('offer', 9): False, ('lame', 9): False, ('everybodi', 9): False, ('quick', 9): False, ('keyboard', 9): False, ('report', 9): False, ('ex', 9): False, ('fave', 9): False, ('epic', 9): False, ('egg', 9): False, ('box', 9): False, ('often', 9): False, ('heyi', 9): False, ('north', 9): False, ('aliv', 9): False, ('soup', 9): False, ('odd', 9): False, ('jonathanrknight', 9): False, ('schedul', 9): False, ('teach', 9): False, ('somehow', 9): False, ('bread', 9): False, ('hm', 9): False, ('sum', 9): False, ('ant', 9): False, ('wast', 9): False, ('includ', 9): False, ('recommend', 9): False, ('kate', 9): False, ('reach', 9): False, ('attend', 9): False, ('lock', 9): False, ('shaundiviney', 9): False, ('flower', 9): False, ('cupcak', 9): False, ('bride', 9): False, ('french', 9): False, ('seri', 9): False, ('wine', 9): False, ('pizza', 9): False, ('straight', 9): False, ('terribl', 9): False, ('bee', 9): False, ('pc', 9): False, ('max', 9): False, ('master', 9): False, ('mon', 9): False, ('outfit', 9): False, ('swear', 9): False, ('nail', 9): False, ('ahead', 9): False, ('drag', 9): False, ('death', 9): False, ('knee', 9): False, ('paul', 9): False, ('connect', 9): False, ('cell', 9): False, ('couldnt', 9): False, ('machin', 9): False, ('daddi', 9): False, ('prayer', 9): False, ('exist', 9): False, ('nation', 9): False, ('recov', 9): False, ('brown', 9): False, ('banditleeway', 9): False, ('mention', 8): False, ('size', 8): False, ('shini', 8): False, ('physic', 8): False, ('count', 8): False, ('scene', 8): False, ('ima', 8): False, ('twit', 8): False, ('bunch', 8): False, ('teen', 8): False, ('toronto', 8): False, ('ground', 8): False, ('flash', 8): False, ('period', 8): False, ('fm', 8): False, ('dnt', 8): False, ('teeth', 8): False, ('difficult', 8): False, ('heaven', 8): False, ('aint', 8): False, ('channel', 8): False, ('toni', 8): False, ('ooo', 8): False, ('admit', 8): False, ('quiz', 8): False, ('model', 8): False, ('gross', 8): False, ('um', 8): False, ('momma', 8): False, ('server', 8): False, ('accept', 8): False, ('act', 8): False, ('danni', 8): False, ('alarm', 8): False, ('goodmorn', 8): False, ('challeng', 8): False, ('jordanknight', 8): False, ('id', 8): False, ('whenev', 8): False, ('al', 8): False, ('en', 8): False, ('ghost', 8): False, ('scienc', 8): False, ('thanx', 8): False, ('tag', 8): False, ('studio', 8): False, ('chri', 8): False, ('space', 8): False, ('andi', 8): False, ('latest', 8): False, ('shift', 8): False, ('fam', 8): False, ('noon', 8): False, ('magazin', 8): False, ('massiv', 8): False, ('beyond', 8): False, ('jump', 8): False, ('freakin', 8): False, ('escap', 8): False, ('although', 8): False, ('promo', 8): False, ('social', 8): False, ('crappi', 8): False, ('jersey', 8): False, ('august', 8): False, ('strawberri', 8): False, ('jon', 8): False, ('eh', 8): False, ('soccer', 8): False, ('tooth', 8): False, ('board', 8): False, ('peep', 8): False, ('gift', 8): False, ('trailer', 8): False, ('ridicul', 8): False, ('tweeterfollow', 8): False, ('uh', 8): False, ('bottl', 8): False, ('york', 8): False, ('nose', 8): False, ('men', 8): False, ('tweep', 8): False, ('anywher', 8): False, ('hardli', 8): False, ('bake', 8): False, ('selenagomez', 8): False, ('woop', 8): False, ('tweeteradd', 8): False, ('decent', 8): False, ('honey', 8): False, ('kati', 8): False, ('area', 8): False, ('wasnt', 8): False, ('confer', 8): False, ('hannah', 8): False, ('comp', 8): False, ('taco', 8): False, ('jack', 8): False, ('laker', 8): False, ('excel', 8): False, ('market', 8): False, ('dish', 8): False, ('unit', 8): False, ('term', 8): False, ('ring', 8): False, ('sa', 8): False, ('grey', 8): False, ('msn', 8): False, ('talent', 8): False, ('pre', 8): False, ('kno', 8): False, ('trek', 8): False, ('tan', 8): False, ('imagin', 8): False, ('island', 8): False, ('access', 8): False, ('shitti', 7): False, ('limit', 7): False, ('chair', 7): False, ('crawl', 7): False, ('ten', 7): False, ('brain', 7): False, ('jk', 7): False, ('shoulder', 7): False, ('request', 7): False, ('starbuck', 7): False, ('trust', 7): False, ('avoid', 7): False, ('rich', 7): False, ('disney', 7): False, ('explain', 7): False, ('yup', 7): False, ('street', 7): False, ('cuddl', 7): False, ('wisdom', 7): False, ('etc', 7): False, ('kim', 7): False, ('ie', 7): False, ('homi', 7): False, ('subscrib', 7): False, ('group', 7): False, ('workin', 7): False, ('uni', 7): False, ('michael', 7): False, ('correct', 7): False, ('paid', 7): False, ('bell', 7): False, ('blow', 7): False, ('edit', 7): False, ('afraid', 7): False, ('winner', 7): False, ('eminem', 7): False, ('magic', 7): False, ('pant', 7): False, ('realiti', 7): False, ('confirm', 7): False, ('gear', 7): False, ('eric', 7): False, ('fool', 7): False, ('fabul', 7): False, ('drama', 7): False, ('grrr', 7): False, ('west', 7): False, ('option', 7): False, ('angel', 7): False, ('est', 7): False, ('mm', 7): False, ('clue', 7): False, ('librari', 7): False, ('becom', 7): False, ('booo', 7): False, ('blackberri', 7): False, ('realis', 7): False, ('charg', 7): False, ('million', 7): False, ('insomnia', 7): False, ('ing', 7): False, ('charact', 7): False, ('jacki', 7): False, ('known', 7): False, ('gotten', 7): False, ('univers', 7): False, ('greet', 7): False, ('bull', 7): False, ('competit', 7): False, ('coz', 7): False, ('suit', 7): False, ('style', 7): False, ('purpl', 7): False, ('winter', 7): False, ('fight', 7): False, ('er', 7): False, ('walmart', 7): False, ('silli', 7): False, ('jason', 7): False, ('pancak', 7): False, ('layout', 7): False, ('war', 7): False, ('evil', 7): False, ('unless', 7): False, ('itun', 7): False, ('instal', 7): False, ('dat', 7): False, ('ac', 7): False, ('mia', 7): False, ('mag', 7): False, ('brought', 7): False, ('root', 7): False, ('brand', 7): False, ('awe', 7): False, ('harder', 7): False, ('choic', 7): False, ('allergi', 7): False, ('lovin', 7): False, ('san', 7): False, ('within', 7): False, ('ray', 7): False, ('degre', 7): False, ('nooo', 7): False, ('paint', 7): False, ('def', 7): False, ('sushi', 7): False, ('carri', 7): False, ('middl', 7): False, ('thunder', 7): False, ('ca', 7): False, ('older', 7): False, ('daili', 7): False, ('flat', 7): False, ('tech', 7): False, ('angri', 7): False, ('pet', 7): False, ('hella', 7): False, ('strang', 7): False, ('polic', 7): False, ('faith', 7): False, ('process', 7): False, ('spirit', 7): False, ('lord', 7): False, ('dc', 7): False, ('liter', 7): False, ('court', 7): False, ('sport', 7): False, ('mountain', 7): False, ('ahaha', 7): False, ('wall', 7): False, ('king', 7): False, ('electr', 7): False, ('jonaskevin', 7): False, ('aka', 7): False, ('skill', 7): False, ('wk', 7): False, ('hayfev', 7): False, ('darl', 7): False, ('hide', 7): False, ('smoke', 7): False, ('crowd', 7): False, ('jam', 7): False, ('texa', 7): False, ('skin', 7): False, ('user', 7): False, ('zone', 7): False, ('none', 7): False, ('sen', 7): False, ('woken', 7): False, ('pirat', 7): False, ('ang', 7): False, ('forum', 7): False, ('inform', 7): False, ('heel', 7): False, ('matter', 7): False, ('extrem', 7): False, ('dunno', 7): False, ('human', 7): False, ('dentist', 7): False, ('languag', 7): False, ('stare', 7): False, ('hors', 7): False, ('incred', 7): False, ('empti', 7): False, ('origin', 7): False, ('slowli', 7): False, ('zoo', 7): False, ('fml', 7): False, ('truck', 7): False, ('hire', 7): False, ('delay', 7): False, ('theme', 7): False, ('rule', 7): False, ('nightmar', 7): False, ('joey', 7): False, ('submit', 6): False, ('giant', 6): False, ('build', 6): False, ('lb', 6): False, ('talkin', 6): False, ('deliv', 6): False, ('ap', 6): False, ('dammit', 6): False, ('joy', 6): False, ('oo', 6): False, ('nom', 6): False, ('simpl', 6): False, ('thur', 6): False, ('typic', 6): False, ('nicol', 6): False, ('bak', 6): False, ('threw', 6): False, ('bottom', 6): False, ('smh', 6): False, ('suffer', 6): False, ('mwah', 6): False, ('yahoo', 6): False, ('jessica', 6): False, ('given', 6): False, ('pleasur', 6): False, ('morrow', 6): False, ('bf', 6): False, ('youu', 6): False, ('attract', 6): False, ('oil', 6): False, ('appli', 6): False, ('swine', 6): False, ('sir', 6): False, ('packag', 6): False, ('spell', 6): False, ('il', 6): False, ('highli', 6): False, ('fake', 6): False, ('q', 6): False, ('breath', 6): False, ('ear', 6): False, ('ughhh', 6): False, ('wen', 6): False, ('cnt', 6): False, ('heheh', 6): False, ('neighbor', 6): False, ('motiv', 6): False, ('pierc', 6): False, ('pasta', 6): False, ('lo', 6): False, ('prefer', 6): False, ('whine', 6): False, ('push', 6): False, ('supernatur', 6): False, ('jame', 6): False, ('cherri', 6): False, ('tini', 6): False, ('reckon', 6): False, ('faster', 6): False, ('piti', 6): False, ('cloud', 6): False, ('alex', 6): False, ('comfort', 6): False, ('mini', 6): False, ('bean', 6): False, ('topic', 6): False, ('wireless', 6): False, ('bella', 6): False, ('ami', 6): False, ('law', 6): False, ('attempt', 6): False, ('rose', 6): False, ('wii', 6): False, ('bowl', 6): False, ('sold', 6): False, ('ili', 6): False, ('asap', 6): False, ('everywher', 6): False, ('lilyroseallen', 6): False, ('ryan', 6): False, ('howev', 6): False, ('shake', 6): False, ('attent', 6): False, ('creat', 6): False, ('singer', 6): False, ('emili', 6): False, ('xp', 6): False, ('blast', 6): False, ('bummer', 6): False, ('workout', 6): False, ('pl', 6): False, ('easier', 6): False, ('massag', 6): False, ('fab', 6): False, ('truth', 6): False, ('honestli', 6): False, ('snap', 6): False, ('lack', 6): False, ('duck', 6): False, ('spread', 6): False, ('delici', 6): False, ('tonit', 6): False, ('cricket', 6): False, ('german', 6): False, ('truli', 6): False, ('ny', 6): False, ('usa', 6): False, ('atlanta', 6): False, ('wide', 6): False, ('fring', 6): False, ('along', 6): False, ('screw', 6): False, ('abt', 6): False, ('price', 6): False, ('wouldnt', 6): False, ('develop', 6): False, ('mobil', 6): False, ('cramp', 6): False, ('steal', 6): False, ('taylorswift', 6): False, ('chine', 6): False, ('item', 6): False, ('bang', 6): False, ('lauren', 6): False, ('press', 6): False, ('switch', 6): False, ('aim', 6): False, ('bah', 6): False, ('background', 6): False, ('earn', 6): False, ('whether', 6): False, ('georg', 6): False, ('au', 6): False, ('ummm', 6): False, ('pound', 6): False, ('ow', 6): False, ('drew', 6): False, ('bite', 6): False, ('program', 6): False, ('decis', 6): False, ('admin', 6): False, ('error', 6): False, ('ko', 6): False, ('golf', 6): False, ('sunburn', 6): False, ('keith', 6): False, ('bathroom', 6): False, ('buck', 6): False, ('curl', 6): False, ('titl', 6): False, ('click', 6): False, ('waitin', 6): False, ('articl', 6): False, ('stolen', 6): False, ('lisa', 6): False, ('inde', 6): False, ('clair', 6): False, ('detail', 6): False, ('wet', 6): False, ('weight', 6): False, ('lower', 6): False, ('gr', 6): False, ('mike', 6): False, ('omfg', 6): False, ('holi', 6): False, ('floor', 6): False, ('harri', 6): False, ('potter', 6): False, ('thinkin', 6): False, ('mode', 6): False, ('bleh', 6): False, ('ga', 6): False, ('hawaii', 6): False, ('hahahaha', 6): False, ('woot', 6): False, ('josh', 6): False, ('lem', 6): False, ('letter', 6): False, ('jacket', 6): False, ('festiv', 6): False, ('demo', 6): False, ('orang', 6): False, ('member', 6): False, ('ho', 6): False, ('maria', 6): False, ('attack', 6): False, ('idiot', 6): False, ('semest', 6): False, ('level', 6): False, ('besid', 6): False, ('log', 6): False, ('net', 6): False, ('kelli', 6): False, ('freez', 6): False, ('diver', 6): False, ('bedtim', 6): False, ('coast', 6): False, ('desper', 6): False, ('rough', 6): False, ('author', 5): False, ('applic', 5): False, ('discount', 5): False, ('gb', 5): False, ('atm', 5): False, ('smooth', 5): False, ('z', 5): False, ('cori', 5): False, ('buzz', 5): False, ('turkey', 5): False, ('button', 5): False, ('brad', 5): False, ('chuck', 5): False, ('yer', 5): False, ('mexico', 5): False, ('standard', 5): False, ('secret', 5): False, ('champion', 5): False, ('sight', 5): False, ('princess', 5): False, ('jerri', 5): False, ('gaga', 5): False, ('esp', 5): False, ('insur', 5): False, ('closer', 5): False, ('flip', 5): False, ('refresh', 5): False, ('tissu', 5): False, ('budget', 5): False, ('austin', 5): False, ('downtown', 5): False, ('hip', 5): False, ('target', 5): False, ('wave', 5): False, ('local', 5): False, ('mission', 5): False, ('leavin', 5): False, ('treat', 5): False, ('gum', 5): False, ('lip', 5): False, ('statement', 5): False, ('handl', 5): False, ('noooo', 5): False, ('petewentz', 5): False, ('plant', 5): False, ('earth', 5): False, ('longest', 5): False, ('belov', 5): False, ('announc', 5): False, ('stalker', 5): False, ('rout', 5): False, ('diva', 5): False, ('partner', 5): False, ('youth', 5): False, ('hah', 5): False, ('direct', 5): False, ('dragon', 5): False, ('mouth', 5): False, ('crush', 5): False, ('philippin', 5): False, ('medicin', 5): False, ('coursework', 5): False, ('discus', 5): False, ('vet', 5): False, ('aha', 5): False, ('respect', 5): False, ('parad', 5): False, ('scream', 5): False, ('licens', 5): False, ('cost', 5): False, ('ultim', 5): False, ('knight', 5): False, ('clock', 5): False, ('bowwow', 5): False, ('eff', 5): False, ('playlist', 5): False, ('gah', 5): False, ('drawer', 5): False, ('infect', 5): False, ('field', 5): False, ('nurs', 5): False, ('joeymcintyr', 5): False, ('peanut', 5): False, ('dev', 5): False, ('li', 5): False, ('babysit', 5): False, ('ughh', 5): False, ('sock', 5): False, ('goodi', 5): False, ('meal', 5): False, ('eaten', 5): False, ('judg', 5): False, ('pari', 5): False, ('senior', 5): False, ('cloudi', 5): False, ('suddenli', 5): False, ('entertain', 5): False, ('classic', 5): False, ('wild', 5): False, ('fault', 5): False, ('wing', 5): False, ('dunk', 5): False, ('toast', 5): False, ('mexican', 5): False, ('bt', 5): False, ('seven', 5): False, ('selena', 5): False, ('balloon', 5): False, ('skate', 5): False, ('scotland', 5): False, ('grill', 5): False, ('britney', 5): False, ('itouch', 5): False, ('grand', 5): False, ('chapter', 5): False, ('discov', 5): False, ('youuu', 5): False, ('fruit', 5): False, ('aye', 5): False, ('bigger', 5): False, ('improv', 5): False, ('certainli', 5): False, ('biz', 5): False, ('natur', 5): False, ('blond', 5): False, ('houston', 5): False, ('properli', 5): False, ('oper', 5): False, ('distanc', 5): False, ('organ', 5): False, ('kitten', 5): False, ('iron', 5): False, ('ugli', 5): False, ('elect', 5): False, ('umm', 5): False, ('crack', 5): False, ('exercis', 5): False, ('reg', 5): False, ('boot', 5): False, ('kept', 5): False, ('plenti', 5): False, ('ooooh', 5): False, ('archi', 5): False, ('wrote', 5): False, ('thou', 5): False, ('across', 5): False, ('lead', 5): False, ('race', 5): False, ('brilliant', 5): False, ('ferri', 5): False, ('oooh', 5): False, ('commerci', 5): False, ('quiet', 5): False, ('dig', 5): False, ('bright', 5): False, ('defin', 5): False, ('effect', 5): False, ('piano', 5): False, ('thnx', 5): False, ('bein', 5): False, ('hai', 5): False, ('ali', 5): False, ('health', 5): False, ('balanc', 5): False, ('prove', 5): False, ('opposit', 5): False, ('poster', 5): False, ('naw', 5): False, ('lake', 5): False, ('kitchen', 5): False, ('nt', 5): False, ('statu', 5): False, ('inch', 5): False, ('plug', 5): False, ('admir', 5): False, ('privat', 5): False, ('warn', 5): False, ('yes', 5): False, ('trade', 5): False, ('ala', 5): False, ('phew', 5): False, ('imposs', 5): False, ('gmail', 5): False, ('imag', 5): False, ('wordpress', 5): False, ('restaur', 5): False, ('speed', 5): False, ('urban', 5): False, ('ftw', 5): False, ('footbal', 5): False, ('fridg', 5): False, ('soak', 5): False, ('collect', 5): False, ('lee', 5): False, ('onto', 5): False, ('crime', 5): False, ('tooo', 5): False, ('pure', 5): False, ('andrew', 5): False, ('convinc', 5): False, ('bgt', 5): False, ('daniel', 5): False, ('kathi', 5): False, ('cuti', 5): False, ('hee', 5): False, ('que', 5): False, ('ann', 5): False, ('twittervers', 5): False, ('un', 5): False, ('ti', 5): False, ('wknd', 5): False, ('choos', 5): False, ('clear', 5): False, ('wheel', 5): False, ('cow', 5): False, ('megan', 5): False, ('altern', 5): False, ('tube', 5): False, ('rate', 5): False, ('wood', 5): False, ('hail', 5): False, ('miami', 5): False, ('jen', 5): False, ('bitter', 5): False, ('mental', 5): False, ('virtual', 5): False, ('disgust', 5): False, ('wreck', 5): False, ('guest', 5): False, ('sam', 5): False, ('theori', 5): False, ('chef', 5): False, ('aplusk', 5): False, ('wifi', 5): False, ('britain', 5): False, ('nintendo', 5): False, ('dirti', 5): False, ('andyclemmensen', 5): False, ('humor', 5): False, ('print', 5): False, ('east', 5): False, ('seattl', 5): False, ('nxt', 5): False, ('ash', 5): False, ('qualiti', 5): False, ('perhap', 5): False, ('irememb', 5): False, ('billi', 5): False, ('otherwis', 5): False, ('wick', 5): False, ('tough', 5): False, ('awh', 5): False, ('wore', 5): False, ('damag', 5): False, ('lectur', 5): False, ('basketbal', 5): False, ('fox', 5): False, ('european', 5): False, ('bot', 5): False, ('legend', 5): False, ('havnt', 5): False, ('heal', 5): False, ('adopt', 5): False, ('cancer', 5): False, ('msg', 5): False, ('yell', 5): False, ('susan', 5): False, ('lmfao', 5): False, ('gun', 5): False, ('fee', 5): False, ('gunna', 5): False, ('toward', 5): False, ('jog', 5): False, ('ai', 5): False, ('rob', 5): False, ('xxxx', 5): False, ('bail', 5): False, ('leno', 5): False, ('crystal', 5): False, ('amanda', 5): False, ('dr', 5): False, ('tenni', 5): False, ('whew', 5): False, ('commun', 5): False, ('se', 5): False, ('hav', 5): False, ('network', 5): False, ('kong', 5): False, ('biggest', 5): False, ('nomorefailwhal', 5): False, ('friendli', 5): False, ('england', 5): False, ('michel', 5): False, ('singapor', 4): False, ('gfalcon', 4): False, ('curiou', 4): False, ('bsg', 4): False, ('naughti', 4): False, ('hook', 4): False, ('rang', 4): False, ('bone', 4): False, ('cycl', 4): False, ('audienc', 4): False, ('butter', 4): False, ('dollhous', 4): False, ('potato', 4): False, ('sesh', 4): False, ('med', 4): False, ('scratch', 4): False, ('duti', 4): False, ('indoor', 4): False, ('apprentic', 4): False, ('mitchelmusso', 4): False, ('mcdonald', 4): False, ('neighbour', 4): False, ('trick', 4): False, ('knw', 4): False, ('dah', 4): False, ('bump', 4): False, ('tgif', 4): False, ('involv', 4): False, ('noo', 4): False, ('gossip', 4): False, ('shanedawson', 4): False, ('mite', 4): False, ('richard', 4): False, ('emerg', 4): False, ('toddler', 4): False, ('sydney', 4): False, ('temperatur', 4): False, ('schofe', 4): False, ('jesu', 4): False, ('subject', 4): False, ('yoga', 4): False, ('distract', 4): False, ('castl', 4): False, ('younger', 4): False, ('costum', 4): False, ('coat', 4): False, ('hat', 4): False, ('lush', 4): False, ('factori', 4): False, ('diet', 4): False, ('stain', 4): False, ('spill', 4): False, ('ol', 4): False, ('speech', 4): False, ('tomorow', 4): False, ('nooooooo', 4): False, ('wil', 4): False, ('nj', 4): False, ('prolli', 4): False, ('dislik', 4): False, ('johncmay', 4): False, ('remix', 4): False, ('hw', 4): False, ('mummi', 4): False, ('mous', 4): False, ('california', 4): False, ('wana', 4): False, ('main', 4): False, ('garlic', 4): False, ('hahaa', 4): False, ('ahhhh', 4): False, ('spanish', 4): False, ('sucki', 4): False, ('snack', 4): False, ('lyric', 4): False, ('gf', 4): False, ('mrw', 4): False, ('beta', 4): False, ('spoil', 4): False, ('bash', 4): False, ('wallet', 4): False, ('raw', 4): False, ('boom', 4): False, ('heh', 4): False, ('holli', 4): False, ('pencil', 4): False, ('draw', 4): False, ('loser', 4): False, ('robin', 4): False, ('fart', 4): False, ('avatar', 4): False, ('taught', 4): False, ('blew', 4): False, ('salad', 4): False, ('combo', 4): False, ('rent', 4): False, ('milkshak', 4): False, ('wrist', 4): False, ('chili', 4): False, ('latt', 4): False, ('born', 4): False, ('combin', 4): False, ('accid', 4): False, ('grass', 4): False, ('ja', 4): False, ('clip', 4): False, ('shell', 4): False, ('toooo', 4): False, ('nasti', 4): False, ('ashley', 4): False, ('payment', 4): False, ('hd', 4): False, ('tabl', 4): False, ('hv', 4): False, ('belfast', 4): False, ('daisi', 4): False, ('kri', 4): False, ('password', 4): False, ('row', 4): False, ('theyr', 4): False, ('northern', 4): False, ('melbourn', 4): False, ('penguin', 4): False, ('japanes', 4): False, ('color', 4): False, ('tweepl', 4): False, ('leftov', 4): False, ('reaction', 4): False, ('extend', 4): False, ('polit', 4): False, ('hint', 4): False, ('ct', 4): False, ('edward', 4): False, ('orient', 4): False, ('nickjona', 4): False, ('paranoid', 4): False, ('souljaboytellem', 4): False, ('weed', 4): False, ('sang', 4): False, ('bmw', 4): False, ('joe', 4): False, ('legal', 4): False, ('mariah', 4): False, ('squarespac', 4): False, ('lj', 4): False, ('nowww', 4): False, ('summertim', 4): False, ('forgotten', 4): False, ('kobe', 4): False, ('thousand', 4): False, ('glasto', 4): False, ('fare', 4): False, ('dread', 4): False, ('publish', 4): False, ('doll', 4): False, ('therealjordin', 4): False, ('pub', 4): False, ('struggl', 4): False, ('spain', 4): False, ('whoa', 4): False, ('garag', 4): False, ('quickli', 4): False, ('boat', 4): False, ('aaron', 4): False, ('amus', 4): False, ('rite', 4): False, ('disconnect', 4): False, ('italian', 4): False, ('weak', 4): False, ('groceri', 4): False, ('stone', 4): False, ('refer', 4): False, ('appt', 4): False, ('pout', 4): False, ('central', 4): False, ('fest', 4): False, ('scan', 4): False, ('produc', 4): False, ('hangin', 4): False, ('atleast', 4): False, ('rb', 4): False, ('evan', 4): False, ('affect', 4): False, ('romant', 4): False, ('tampa', 4): False, ('actor', 4): False, ('somebodi', 4): False, ('yearbook', 4): False, ('corner', 4): False, ('nylon', 4): False, ('signal', 4): False, ('espn', 4): False, ('girli', 4): False, ('address', 4): False, ('weirdest', 4): False, ('honor', 4): False, ('todayi', 4): False, ('ohhh', 4): False, ('structur', 4): False, ('luckili', 4): False, ('intent', 4): False, ('poem', 4): False, ('appear', 4): False, ('urg', 4): False, ('swag', 4): False, ('dj', 4): False, ('oooo', 4): False, ('ohio', 4): False, ('curri', 4): False, ('tab', 4): False, ('loop', 4): False, ('supper', 4): False, ('va', 4): False, ('mario', 4): False, ('orlando', 4): False, ('haa', 4): False, ('asham', 4): False, ('chop', 4): False, ('asia', 4): False, ('smoothi', 4): False, ('geniu', 4): False, ('montana', 4): False, ('trail', 4): False, ('employe', 4): False, ('ob', 4): False, ('melt', 4): False, ('missin', 4): False, ('twitterfon', 4): False, ('op', 4): False, ('focu', 4): False, ('deck', 4): False, ('gal', 4): False, ('runni', 4): False, ('assum', 4): False, ('regular', 4): False, ('twitterland', 4): False, ('launch', 4): False, ('soul', 4): False, ('whoop', 4): False, ('resum', 4): False, ('hay', 4): False, ('nerd', 4): False, ('nh', 4): False, ('ankl', 4): False, ('cabl', 4): False, ('skype', 4): False, ('asian', 4): False, ('host', 4): False, ('biolog', 4): False, ('itali', 4): False, ('prize', 4): False, ('burger', 4): False, ('pair', 4): False, ('bbc', 4): False, ('potenti', 4): False, ('grumpi', 4): False, ('kansa', 4): False, ('sri', 4): False, ('drove', 4): False, ('wud', 4): False, ('cartoon', 4): False, ('anybodi', 4): False, ('poker', 4): False, ('data', 4): False, ('sourc', 4): False, ('method', 4): False, ('agent', 4): False, ('suppli', 4): False, ('dam', 4): False, ('sausag', 4): False, ('nada', 4): False, ('errand', 4): False, ('tee', 4): False, ('allen', 4): False, ('noodl', 4): False, ('flavor', 4): False, ('surf', 4): False, ('tape', 4): False, ('ii', 4): False, ('patient', 4): False, ('lunchtim', 4): False, ('haf', 4): False, ('starv', 4): False, ('picnic', 4): False, ('third', 4): False, ('coke', 4): False, ('indian', 4): False, ('rabbit', 4): False, ('vodka', 4): False, ('sniff', 4): False, ('eeek', 4): False, ('palm', 4): False, ('apt', 4): False, ('transfer', 4): False, ('dl', 4): False, ('sittin', 4): False, ('awwwww', 4): False, ('numb', 4): False, ('oven', 4): False, ('zealand', 4): False, ('yt', 4): False, ('nake', 4): False, ('nephew', 4): False, ('sever', 4): False, ('tragedi', 4): False, ('poo', 4): False, ('averag', 4): False, ('van', 4): False, ('jake', 4): False, ('journey', 4): False, ('rt', 4): False, ('colour', 4): False, ('disappear', 4): False, ('condol', 4): False, ('contract', 4): False, ('cap', 4): False, ('explor', 4): False, ('giggl', 4): False, ('action', 4): False, ('laura', 4): False, ('skip', 4): False, ('preview', 4): False, ('oc', 4): False, ('waaaay', 4): False, ('beg', 4): False, ('artist', 4): False, ('iran', 4): False, ('remov', 4): False, ('debat', 4): False, ('toooooo', 4): False, ('tt', 4): False, ('sea', 4): False, ('hole', 4): False, ('boyl', 4): False, ('popular', 4): False, ('hollywood', 4): False, ('cr', 4): False, ('awkward', 4): False, ('per', 4): False, ('rumbl', 4): False, ('dannymcfli', 4): False, ('ihop', 4): False, ('bo', 4): False, ('cali', 4): False, ('takin', 4): False, ('drug', 4): False, ('plain', 4): False, ('thu', 4): False, ('logo', 4): False, ('destroy', 4): False, ('cal', 4): False, ('ly', 4): False, ('lobster', 4): False, ('mosquito', 4): False, ('grant', 4): False, ('chin', 4): False, ('relationship', 4): False, ('ed', 4): False, ('easili', 4): False, ('cheap', 4): False, ('bat', 4): False, ('beleiv', 4): False, ('carolin', 4): False, ('nitey', 4): False, ('dearest', 4): False, ('imma', 4): False, ('wire', 4): False, ('rice', 4): False, ('transform', 4): False, ('sweat', 4): False, ('aj', 4): False, ('bla', 4): False, ('tweeti', 4): False, ('swell', 4): False, ('lolz', 4): False, ('ginger', 4): False, ('burst', 4): False, ('frame', 4): False, ('insan', 4): False, ('qualifi', 4): False, ('dissapoint', 4): False, ('theellenshow', 4): False, ('everytim', 4): False, ('tend', 4): False, ('wrap', 4): False, ('icon', 4): False, ('intens', 4): False, ('tool', 4): False, ('provid', 4): False, ('boredom', 4): False, ('tara', 4): False, ('ewww', 4): False, ('gran', 3): False, ('creation', 3): False, ('java', 3): False, ('samp', 3): False, ('km', 3): False, ('bikini', 3): False, ('overslept', 3): False, ('basic', 3): False, ('sleeep', 3): False, ('euro', 3): False, ('murder', 3): False, ('darlin', 3): False, ('nov', 3): False, ('lovato', 3): False, ('sauc', 3): False, ('jordan', 3): False, ('spoke', 3): False, ('volunt', 3): False, ('ouchi', 3): False, ('nw', 3): False, ('eu', 3): False, ('yard', 3): False, ('stole', 3): False, ('poorli', 3): False, ('pour', 3): False, ('oliv', 3): False, ('branch', 3): False, ('geez', 3): False, ('organis', 3): False, ('tidi', 3): False, ('bedroom', 3): False, ('phil', 3): False, ('alll', 3): False, ('sux', 3): False, ('bob', 3): False, ('function', 3): False, ('ink', 3): False, ('merci', 3): False, ('zomg', 3): False, ('tempt', 3): False, ('sucker', 3): False, ('vegan', 3): False, ('bio', 3): False, ('pickl', 3): False, ('guilti', 3): False, ('craig', 3): False, ('pregnanc', 3): False, ('org', 3): False, ('section', 3): False, ('requir', 3): False, ('leed', 3): False, ('advertis', 3): False, ('stalk', 3): False, ('stilll', 3): False, ('robert', 3): False, ('biscuit', 3): False, ('plugin', 3): False, ('api', 3): False, ('deploy', 3): False, ('monster', 3): False, ('climb', 3): False, ('extens', 3): False, ('gold', 3): False, ('virgin', 3): False, ('dwarf', 3): False, ('dot', 3): False, ('grandma', 3): False, ('loui', 3): False, ('std', 3): False, ('charli', 3): False, ('oral', 3): False, ('slim', 3): False, ('fat', 3): False, ('devo', 3): False, ('stink', 3): False, ('coach', 3): False, ('mulder', 3): False, ('sculli', 3): False, ('flop', 3): False, ('dan', 3): False, ('devast', 3): False, ('gloriou', 3): False, ('pile', 3): False, ('sec', 3): False, ('minim', 3): False, ('nest', 3): False, ('folder', 3): False, ('thin', 3): False, ('solut', 3): False, ('uncl', 3): False, ('bi', 3): False, ('dia', 3): False, ('jeff', 3): False, ('defo', 3): False, ('corpor', 3): False, ('musician', 3): False, ('anxieti', 3): False, ('tryin', 3): False, ('luci', 3): False, ('hunt', 3): False, ('grrrr', 3): False, ('cheapest', 3): False, ('dodgi', 3): False, ('pat', 3): False, ('sterl', 3): False, ('regist', 3): False, ('natali', 3): False, ('relat', 3): False, ('minu', 3): False, ('jd', 3): False, ('clinic', 3): False, ('tmrw', 3): False, ('brook', 3): False, ('chelsea', 3): False, ('chemistri', 3): False, ('phoenix', 3): False, ('haz', 3): False, ('luggag', 3): False, ('irrit', 3): False, ('common', 3): False, ('approach', 3): False, ('fashion', 3): False, ('nooooo', 3): False, ('sup', 3): False, ('anywho', 3): False, ('opportun', 3): False, ('owner', 3): False, ('calebftsk', 3): False, ('dalla', 3): False, ('sting', 3): False, ('reject', 3): False, ('swift', 3): False, ('cord', 3): False, ('bugger', 3): False, ('wendi', 3): False, ('cyru', 3): False, ('ce', 3): False, ('celtic', 3): False, ('steven', 3): False, ('trend', 3): False, ('eagl', 3): False, ('strong', 3): False, ('jammin', 3): False, ('blame', 3): False, ('lc', 3): False, ('sneez', 3): False, ('preciou', 3): False, ('sin', 3): False, ('alllll', 3): False, ('tiger', 3): False, ('santa', 3): False, ('heck', 3): False, ('milli', 3): False, ('auction', 3): False, ('rainbow', 3): False, ('cash', 3): False, ('missi', 3): False, ('canon', 3): False, ('indo', 3): False, ('mraz', 3): False, ('chase', 3): False, ('worship', 3): False, ('sharon', 3): False, ('oohh', 3): False, ('amsterdam', 3): False, ('contempl', 3): False, ('txt', 3): False, ('goldfish', 3): False, ('bubbl', 3): False, ('dave', 3): False, ('lesley', 3): False, ('microwav', 3): False, ('opinion', 3): False, ('samberg', 3): False, ('keeper', 3): False, ('split', 3): False, ('cathol', 3): False, ('bay', 3): False, ('gomez', 3): False, ('greg', 3): False, ('lastnight', 3): False, ('aja', 3): False, ('heheheh', 3): False, ('roger', 3): False, ('anniversari', 3): False, ('happiest', 3): False, ('pedicur', 3): False, ('karma', 3): False, ('plurk', 3): False, ('ireland', 3): False, ('flirt', 3): False, ('doh', 3): False, ('nothin', 3): False, ('drown', 3): False, ('reliev', 3): False, ('concentr', 3): False, ('ryanstar', 3): False, ('towel', 3): False, ('spa', 3): False, ('sooooooooo', 3): False, ('float', 3): False, ('horni', 3): False, ('neglect', 3): False, ('environ', 3): False, ('unpack', 3): False, ('punch', 3): False, ('melani', 3): False, ('latin', 3): False, ('reward', 3): False, ('han', 3): False, ('erm', 3): False, ('seren', 3): False, ('bobbi', 3): False, ('yaa', 3): False, ('supris', 3): False, ('nomin', 3): False, ('wishin', 3): False, ('investig', 3): False, ('urgh', 3): False, ('courtney', 3): False, ('overdu', 3): False, ('skool', 3): False, ('jenna', 3): False, ('gg', 3): False, ('offens', 3): False, ('headphon', 3): False, ('font', 3): False, ('marin', 3): False, ('selfish', 3): False, ('chap', 3): False, ('barbequ', 3): False, ('jr', 3): False, ('interfac', 3): False, ('pow', 3): False, ('happili', 3): False, ('worker', 3): False, ('particip', 3): False, ('din', 3): False, ('arg', 3): False, ('theatr', 3): False, ('map', 3): False, ('batch', 3): False, ('gray', 3): False, ('donni', 3): False, ('musicmonday', 3): False, ('barri', 3): False, ('mighti', 3): False, ('spare', 3): False, ('nashvil', 3): False, ('michigan', 3): False, ('strand', 3): False, ('temporarili', 3): False, ('comedi', 3): False, ('hittin', 3): False, ('teh', 3): False, ('freshman', 3): False, ('lane', 3): False, ('buckhollywood', 3): False, ('grind', 3): False, ('ship', 3): False, ('sink', 3): False, ('wooooo', 3): False, ('vintag', 3): False, ('knit', 3): False, ('thingi', 3): False, ('csi', 3): False, ('serv', 3): False, ('yaaay', 3): False, ('foo', 3): False, ('twittervil', 3): False, ('pearl', 3): False, ('arent', 3): False, ('dirt', 3): False, ('conan', 3): False, ('tryna', 3): False, ('tyler', 3): False, ('grace', 3): False, ('tnx', 3): False, ('plaster', 3): False, ('cast', 3): False, ('optimist', 3): False, ('cure', 3): False, ('superwomanak', 3): False, ('prais', 3): False, ('bacon', 3): False, ('gala', 3): False, ('icki', 3): False, ('softbal', 3): False, ('listenin', 3): False, ('sentenc', 3): False, ('workshop', 3): False, ('honest', 3): False, ('voltag', 3): False, ('pie', 3): False, ('museum', 3): False, ('flag', 3): False, ('nahh', 3): False, ('exact', 3): False, ('vista', 3): False, ('pressur', 3): False, ('chore', 3): False, ('global', 3): False, ('dsi', 3): False, ('promot', 3): False, ('ch', 3): False, ('knock', 3): False, ('heyyy', 3): False, ('certif', 3): False, ('tyra', 3): False, ('mango', 3): False, ('embarrass', 3): False, ('rise', 3): False, ('stair', 3): False, ('widget', 3): False, ('fob', 3): False, ('brandon', 3): False, ('cooler', 3): False, ('veggi', 3): False, ('nawww', 3): False, ('chillaxin', 3): False, ('domain', 3): False, ('someday', 3): False, ('gd', 3): False, ('reunion', 3): False, ('tweeter', 3): False, ('cheek', 3): False, ('sweden', 3): False, ('moder', 3): False, ('proof', 3): False, ('slightli', 3): False, ('pr', 3): False, ('bunni', 3): False, ('disagre', 3): False, ('freind', 3): False, ('semi', 3): False, ('duet', 3): False, ('wee', 3): False, ('ashleytisdal', 3): False, ('pump', 3): False, ('felicia', 3): False, ('shade', 3): False, ('daylight', 3): False, ('assist', 3): False, ('calm', 3): False, ('lang', 3): False, ('indi', 3): False, ('iam', 3): False, ('justin', 3): False, ('forecast', 3): False, ('cram', 3): False, ('disabl', 3): False, ('webcam', 3): False, ('pride', 3): False, ('ohhhh', 3): False, ('layin', 3): False, ('vomit', 3): False, ('soni', 3): False, ('charm', 3): False, ('brighten', 3): False, ('gnr', 3): False, ('drain', 3): False, ('fairli', 3): False, ('ian', 3): False, ('aussi', 3): False, ('pilat', 3): False, ('sweetheart', 3): False, ('sampl', 3): False, ('planet', 3): False, ('tomfelton', 3): False, ('ass', 3): False, ('tasti', 3): False, ('rush', 3): False, ('comic', 3): False, ('meeee', 3): False, ('nighter', 3): False, ('ingredi', 3): False, ('fold', 3): False, ('colorado', 3): False, ('resort', 3): False, ('loaf', 3): False, ('daw', 3): False, ('kasi', 3): False, ('stroke', 3): False, ('upcom', 3): False, ('viru', 3): False, ('soft', 3): False, ('tokyo', 3): False, ('twin', 3): False, ('motorcycl', 3): False, ('domin', 3): False, ('mic', 3): False, ('pen', 3): False, ('complain', 3): False, ('choo', 3): False, ('steph', 3): False, ('invent', 3): False, ('torus', 3): False, ('mistak', 3): False, ('monick', 3): False, ('gather', 3): False, ('mah', 3): False, ('zombi', 3): False, ('purchas', 3): False, ('shannon', 3): False, ('bruce', 3): False, ('riskybusinessmb', 3): False, ('theros', 3): False, ('slip', 3): False, ('bk', 3): False, ('fellow', 3): False, ('tmr', 3): False, ('gm', 3): False, ('blogger', 3): False, ('spray', 3): False, ('owe', 3): False, ('bagel', 3): False, ('hp', 3): False, ('sm', 3): False, ('bracelet', 3): False, ('ooooo', 3): False, ('patienc', 3): False, ('element', 3): False, ('manual', 3): False, ('transmiss', 3): False, ('sumon', 3): False, ('fone', 3): False, ('pint', 3): False, ('junk', 3): False, ('ne', 3): False, ('majest', 3): False, ('makeup', 3): False, ('commut', 3): False, ('iranelect', 3): False, ('comin', 3): False, ('tragic', 3): False, ('betti', 3): False, ('approv', 3): False, ('tim', 3): False, ('pot', 3): False, ('thumb', 3): False, ('bonni', 3): False, ('protest', 3): False, ('icecream', 3): False, ('intellig', 3): False, ('captain', 3): False, ('ji', 3): False, ('nowher', 3): False, ('furnitur', 3): False, ('sytycd', 3): False, ('youngq', 3): False, ('slam', 3): False, ('energi', 3): False, ('wi', 3): False, ('url', 3): False, ('lola', 3): False, ('tackl', 3): False, ('fi', 3): False, ('foreign', 3): False, ('viva', 3): False, ('donnett', 3): False, ('queen', 3): False, ('column', 3): False, ('donut', 3): False, ('horror', 3): False, ('leak', 3): False, ('matthew', 3): False, ('louis', 3): False, ('dust', 3): False, ('meee', 3): False, ('assign', 3): False, ('audit', 3): False, ('funnier', 3): False, ('countdown', 3): False, ('grr', 3): False, ('brace', 3): False, ('unhappi', 3): False, ('crew', 3): False, ('lah', 3): False, ('neither', 3): False, ('loveee', 3): False, ('carol', 3): False, ('anytim', 3): False, ('nicki', 3): False, ('thang', 3): False, ('lung', 3): False, ('chest', 3): False, ('wrk', 3): False, ('munch', 3): False, ('accord', 3): False, ('danecook', 3): False, ('peter', 3): False, ('witti', 3): False, ('unfair', 3): False, ('surviv', 3): False, ('sunburnt', 3): False, ('dizzi', 3): False, ('acoust', 3): False, ('antibiot', 3): False, ('cur', 3): False, ('rafa', 3): False, ('abandon', 3): False, ('gem', 3): False, ('langfordperri', 3): False, ('solv', 3): False, ('roast', 3): False, ('paula', 3): False, ('legit', 3): False, ('marvel', 3): False, ('muscl', 3): False, ('aunt', 3): False, ('larg', 3): False, ('jackalltimelow', 3): False, ('actress', 3): False, ('puppet', 3): False, ('determin', 3): False, ('dye', 3): False, ('venic', 3): False, ('lover', 3): False, ('rove', 3): False, ('tat', 3): False, ('lyk', 3): False, ('kevin', 3): False, ('enter', 3): False, ('conflict', 3): False, ('declar', 3): False, ('nowt', 3): False, ('amazon', 3): False, ('molli', 3): False, ('modest', 3): False, ('delta', 3): False, ('tommorow', 3): False, ('thisisdavina', 3): False, ('technolog', 3): False, ('accomplish', 3): False, ('junior', 3): False, ('costa', 3): False, ('del', 3): False, ('yayyy', 3): False, ('wooo', 3): False, ('hometown', 3): False, ('thame', 3): False, ('career', 3): False, ('subway', 3): False, ('nk', 3): False, ('engag', 3): False, ('netbal', 3): False, ('twigga', 3): False, ('script', 3): False, ('sumthin', 3): False, ('funer', 3): False, ('deer', 3): False, ('heyyyi', 3): False, ('kirstiealley', 3): False, ('exampl', 3): False, ('couch', 3): False, ('innoc', 3): False, ('sew', 3): False, ('arghh', 3): False, ('pastor', 3): False, ('helicopt', 3): False, ('russian', 3): False, ('corrupt', 3): False, ('con', 3): False, ('slice', 3): False, ('leagu', 3): False, ('hungov', 3): False, ('killin', 3): False, ('jade', 3): False, ('vanessa', 3): False, ('era', 3): False, ('backstreetboy', 3): False, ('rub', 3): False, ('condo', 3): False, ('dull', 3): False, ('grab', 3): False, ('byeby', 3): False, ('built', 3): False, ('necklac', 3): False, ('charger', 3): False, ('lancearmstrong', 3): False, ('fanci', 3): False, ('kl', 3): False, ('anna', 3): False, ('anatomi', 3): False, ('rio', 3): False, ('vampir', 3): False, ('famou', 3): False, ('brush', 3): False, ('sprint', 3): False, ('metro', 3): False, ('prom', 3): False, ('gooood', 3): False, ('wah', 3): False, ('bud', 3): False, ('campaign', 3): False, ('gloomi', 3): False, ('vibe', 3): False, ('brow', 3): False, ('cav', 3): False, ('cinema', 3): False, ('concern', 3): False, ('swing', 3): False, ('skater', 3): False, ('shorter', 3): False, ('lebron', 3): False, ('sean', 3): False, ('bound', 3): False, ('housew', 3): False, ('yipe', 3): False, ('ijustin', 3): False, ('offend', 3): False, ('mann', 3): False, ('invest', 3): False, ('hung', 3): False, ('borrow', 3): False, ('rene', 3): False, ('upon', 3): False, ('fl', 3): False, ('gw', 3): False, ('hamster', 3): False, ('chariti', 3): False, ('bucket', 3): False, ('geek', 3): False, ('scrapbook', 3): False, ('pete', 3): False, ('mrk', 3): False, ('grade', 3): False, ('veronica', 3): False, ('soldier', 3): False, ('tsk', 3): False, ('browser', 3): False, ('titan', 3): False, ('mee', 3): False, ('rap', 3): False, ('tortur', 3): False, ('doughnut', 3): False, ('writer', 3): False, ('stack', 3): False, ('po', 3): False, ('monitor', 3): False, ('sunglass', 3): False, ('christma', 3): False, ('elbow', 3): False, ('jose', 3): False, ('purs', 3): False, ('draft', 3): False, ('grammar', 3): False, ('crave', 3): False, ('forgiv', 3): False, ('philli', 3): False, ('asid', 3): False, ('hen', 3): False, ('seth', 3): False, ('wkend', 3): False, ('owl', 3): False, ('nuthin', 3): False, ('tattoo', 3): False, ('core', 3): False, ('pa', 3): False, ('tie', 3): False, ('locat', 3): False, ('hsm', 3): False, ('fyi', 3): False, ('repeat', 3): False, ('blip', 3): False, ('johnlloydtaylor', 3): False, ('miser', 3): False, ('driver', 3): False, ('reschedul', 3): False, ('brunch', 3): False, ('hong', 3): False, ('lab', 3): False, ('dvr', 3): False, ('despit', 3): False, ('graphic', 3): False, ('knacker', 3): False, ('jim', 3): False, ('vh', 3): False, ('smash', 3): False, ('nathan', 3): False, ('healthi', 3): False, ('watermelon', 3): False, ('upsid', 3): False, ('mcr', 3): False, ('dougi', 3): False, ('written', 3): False, ('dumpl', 3): False, ('bust', 3): False, ('alexalltimelow', 3): False, ('goth', 3): False, ('tripl', 3): False, ('bark', 3): False, ('hardest', 3): False, ('flippin', 3): False, ('nevermind', 3): False, ('sayang', 3): False, ('condit', 3): False, ('peel', 3): False, ('te', 3): False, ('hibern', 3): False, ('driller', 3): False, ('fin', 3): False, ('gang', 3): False, ('sober', 3): False, ('sprinkl', 3): False, ('static', 3): False, ('candl', 3): False, ('tss', 3): False, ('comon', 3): False, ('verwon', 2): False, ('multipl', 2): False, ('catherin', 2): False, ('mehhh', 2): False, ('blaze', 2): False, ('aku', 2): False, ('banget', 2): False, ('sama', 2): False, ('wax', 2): False, ('goal', 2): False, ('nelson', 2): False, ('frappuccino', 2): False, ('twa', 2): False, ('hockey', 2): False, ('gue', 2): False, ('att', 2): False, ('wuv', 2): False, ('yday', 2): False, ('cont', 2): False, ('decemb', 2): False, ('balconi', 2): False, ('wot', 2): False, ('disloc', 2): False, ('collar', 2): False, ('crimin', 2): False, ('championship', 2): False, ('lap', 2): False, ('ventur', 2): False, ('ben', 2): False, ('cautiou', 2): False, ('femal', 2): False, ('regardless', 2): False, ('bec', 2): False, ('slovenia', 2): False, ('neat', 2): False, ('similar', 2): False, ('irvin', 2): False, ('flock', 2): False, ('outdoor', 2): False, ('fantasyparad', 2): False, ('havoc', 2): False, ('toilet', 2): False, ('thechristinakim', 2): False, ('parcel', 2): False, ('cam', 2): False, ('garbag', 2): False, ('mel', 2): False, ('tap', 2): False, ('wif', 2): False, ('wy', 2): False, ('usag', 2): False, ('hurri', 2): False, ('enabl', 2): False, ('firmwar', 2): False, ('heather', 2): False, ('lancerman', 2): False, ('disapoint', 2): False, ('goooood', 2): False, ('label', 2): False, ('methink', 2): False, ('lp', 2): False, ('margaret', 2): False, ('baker', 2): False, ('evacu', 2): False, ('shorten', 2): False, ('tricki', 2): False, ('auto', 2): False, ('conspiraci', 2): False, ('hassl', 2): False, ('lamp', 2): False, ('harbor', 2): False, ('frnd', 2): False, ('xxo', 2): False, ('chriscuzzi', 2): False, ('ummmmm', 2): False, ('custodi', 2): False, ('bachelorett', 2): False, ('suareasi', 2): False, ('offspr', 2): False, ('groovi', 2): False, ('servlet', 2): False, ('judi', 2): False, ('smirk', 2): False, ('fals', 2): False, ('netflix', 2): False, ('instantli', 2): False, ('teari', 2): False, ('pixar', 2): False, ('alexistar', 2): False, ('jaykpurdi', 2): False, ('oy', 2): False, ('fifti', 2): False, ('cent', 2): False, ('mart', 2): False, ('donovan', 2): False, ('director', 2): False, ('marshal', 2): False, ('homemad', 2): False, ('begun', 2): False, ('anti', 2): False, ('cannon', 2): False, ('portugues', 2): False, ('minimum', 2): False, ('irl', 2): False, ('cm', 2): False, ('sub', 2): False, ('perezhilton', 2): False, ('usb', 2): False, ('violenc', 2): False, ('panera', 2): False, ('rogu', 2): False, ('ikea', 2): False, ('burk', 2): False, ('reveal', 2): False, ('startin', 2): False, ('fuk', 2): False, ('uruguay', 2): False, ('berlin', 2): False, ('flown', 2): False, ('reduc', 2): False, ('carbon', 2): False, ('billion', 2): False, ('oth', 2): False, ('marc', 2): False, ('delongeday', 2): False, ('withdrawl', 2): False, ('thankyou', 2): False, ('outt', 2): False, ('sweeeet', 2): False, ('tanmcg', 2): False, ('cuckoo', 2): False, ('kat', 2): False, ('ron', 2): False, ('inbox', 2): False, ('fp', 2): False, ('shabooti', 2): False, ('rim', 2): False, ('union', 2): False, ('birdi', 2): False, ('amo', 2): False, ('declin', 2): False, ('landscap', 2): False, ('abroad', 2): False, ('passion', 2): False, ('smack', 2): False, ('sail', 2): False, ('gerardway', 2): False, ('sanit', 2): False, ('compliment', 2): False, ('pgh', 2): False, ('tomm', 2): False, ('andr', 2): False, ('octob', 2): False, ('advis', 2): False, ('kipni', 2): False, ('fuzz', 2): False, ('abus', 2): False, ('rope', 2): False, ('gloom', 2): False, ('tank', 2): False, ('eek', 2): False, ('shane', 2): False, ('whilst', 2): False, ('kayla', 2): False, ('financi', 2): False, ('thee', 2): False, ('kung', 2): False, ('ano', 2): False, ('hve', 2): False, ('devil', 2): False, ('primev', 2): False, ('homorif', 2): False, ('inner', 2): False, ('sao', 2): False, ('paulo', 2): False, ('patricia', 2): False, ('stina', 2): False, ('loren', 2): False, ('invas', 2): False, ('tilt', 2): False, ('len', 2): False, ('urgent', 2): False, ('branson', 2): False, ('graze', 2): False, ('lilli', 2): False, ('lou', 2): False, ('kendra', 2): False, ('yelyahwilliam', 2): False, ('advic', 2): False, ('cowork', 2): False, ('cring', 2): False, ('yasmina', 2): False, ('isp', 2): False, ('particular', 2): False, ('convent', 2): False, ('makin', 2): False, ('beantown', 2): False, ('mmmbailey', 2): False, ('foxi', 2): False, ('flyer', 2): False, ('friendster', 2): False, ('finallli', 2): False, ('montreal', 2): False, ('cu', 2): False, ('jonathan', 2): False, ('feliciaday', 2): False, ('tooooo', 2): False, ('separ', 2): False, ('replay', 2): False, ('pigeon', 2): False, ('jonni', 2): False, ('mucho', 2): False, ('desert', 2): False, ('frenchman', 2): False, ('dome', 2): False, ('dood', 2): False, ('gana', 2): False, ('uplift', 2): False, ('dana', 2): False, ('gen', 2): False, ('nano', 2): False, ('larger', 2): False, ('monsoon', 2): False, ('yawn', 2): False, ('pee', 2): False, ('hectic', 2): False, ('abov', 2): False, ('recept', 2): False, ('housework', 2): False, ('nichola', 2): False, ('teddi', 2): False, ('graham', 2): False, ('marshmellow', 2): False, ('yike', 2): False, ('amount', 2): False, ('enthusiast', 2): False, ('fer', 2): False, ('cave', 2): False, ('dun', 2): False, ('regularli', 2): False, ('conf', 2): False, ('jail', 2): False, ('maddi', 2): False, ('slumdog', 2): False, ('smoker', 2): False, ('sunflow', 2): False, ('seed', 2): False, ('rah', 2): False, ('tix', 2): False, ('cracker', 2): False, ('mastamind', 2): False, ('offf', 2): False, ('predict', 2): False, ('urself', 2): False, ('seblefebvr', 2): False, ('carson', 2): False, ('wht', 2): False, ('gini', 2): False, ('unabl', 2): False, ('revolut', 2): False, ('grandpar', 2): False, ('jailbreak', 2): False, ('phatelara', 2): False, ('np', 2): False, ('libbi', 2): False, ('bacieabbracci', 2): False, ('sand', 2): False, ('nikki', 2): False, ('vine', 2): False, ('mow', 2): False, ('disco', 2): False, ('turnoffword', 2): False, ('likin', 2): False, ('agn', 2): False, ('stripe', 2): False, ('pajama', 2): False, ('johnlegend', 2): False, ('doc', 2): False, ('toe', 2): False, ('urghh', 2): False, ('tether', 2): False, ('shuck', 2): False, ('oooooh', 2): False, ('pig', 2): False, ('ebassman', 2): False, ('sammi', 2): False, ('alt', 2): False, ('pronounc', 2): False, ('massacr', 2): False, ('agingbackward', 2): False, ('aidan', 2): False, ('cassi', 2): False, ('scrub', 2): False, ('treatment', 2): False, ('trophi', 2): False, ('rach', 2): False, ('protein', 2): False, ('ahhhhhh', 2): False, ('lll', 2): False, ('sf', 2): False, ('roomi', 2): False, ('rank', 2): False, ('recruit', 2): False, ('slap', 2): False, ('cpearson', 2): False, ('mcflyandjb', 2): False, ('hahha', 2): False, ('backseatgoodby', 2): False, ('levarburton', 2): False, ('intellectu', 2): False, ('equival', 2): False, ('nut', 2): False, ('tequila', 2): False, ('icarli', 2): False, ('achi', 2): False, ('beyonc', 2): False, ('integr', 2): False, ('gu', 2): False, ('lick', 2): False, ('dolphin', 2): False, ('addon', 2): False, ('battl', 2): False, ('cypress', 2): False, ('fluffi', 2): False, ('uhh', 2): False, ('rdi', 2): False, ('dollar', 2): False, ('donat', 2): False, ('syd', 2): False, ('pinklou', 2): False, ('okayi', 2): False, ('fay', 2): False, ('monkey', 2): False, ('headband', 2): False, ('blizzard', 2): False, ('emma', 2): False, ('roller', 2): False, ('yew', 2): False, ('jayk', 2): False, ('geog', 2): False, ('bor', 2): False, ('blm', 2): False, ('werent', 2): False, ('pamper', 2): False, ('jenni', 2): False, ('treasur', 2): False, ('tornado', 2): False, ('prayin', 2): False, ('paperwork', 2): False, ('transact', 2): False, ('linux', 2): False, ('yanke', 2): False, ('birmingham', 2): False, ('angi', 2): False, ('carwash', 2): False, ('trvsbrkr', 2): False, ('bomb', 2): False, ('languid', 2): False, ('lifetim', 2): False, ('pursuit', 2): False, ('tobago', 2): False, ('mend', 2): False, ('pill', 2): False, ('concept', 2): False, ('novel', 2): False, ('scarf', 2): False, ('drinkin', 2): False, ('stamp', 2): False, ('battlefield', 2): False, ('polar', 2): False, ('voter', 2): False, ('novemb', 2): False, ('penn', 2): False, ('couldv', 2): False, ('supos', 2): False, ('duuuud', 2): False, ('yuri', 2): False, ('geographi', 2): False, ('refil', 2): False, ('ave', 2): False, ('sung', 2): False, ('neeeed', 2): False, ('inaperfectworld', 2): False, ('seventeen', 2): False, ('teehe', 2): False, ('vin', 2): False, ('stewart', 2): False, ('rus', 2): False, ('wander', 2): False, ('bing', 2): False, ('verb', 2): False, ('sod', 2): False, ('pepperoni', 2): False, ('nan', 2): False, ('zac', 2): False, ('phonecal', 2): False, ('bounc', 2): False, ('cucumb', 2): False, ('shoppin', 2): False, ('stll', 2): False, ('tomorro', 2): False, ('reconnect', 2): False, ('strike', 2): False, ('militari', 2): False, ('sonar', 2): False, ('shopahol', 2): False, ('obv', 2): False, ('feck', 2): False, ('alo', 2): False, ('useless', 2): False, ('faculti', 2): False, ('chunk', 2): False, ('perman', 2): False, ('dehydr', 2): False, ('ident', 2): False, ('coollik', 2): False, ('rewatch', 2): False, ('haunt', 2): False, ('huzzah', 2): False, ('hawaiian', 2): False, ('injuri', 2): False, ('vlad', 2): False, ('failur', 2): False, ('myweak', 2): False, ('neg', 2): False, ('twat', 2): False, ('loud', 2): False, ('hu', 2): False, ('duh', 2): False, ('tanya', 2): False, ('thisisryanross', 2): False, ('convo', 2): False, ('footi', 2): False, ('infam', 2): False, ('cole', 2): False, ('badass', 2): False, ('relay', 2): False, ('alec', 2): False, ('equal', 2): False, ('sudden', 2): False, ('tink', 2): False, ('roommat', 2): False, ('samjmoodi', 2): False, ('spider', 2): False, ('string', 2): False, ('youch', 2): False, ('hii', 2): False, ('zooey', 2): False, ('digit', 2): False, ('hashtag', 2): False, ('backup', 2): False, ('taki', 2): False, ('horizon', 2): False, ('modifi', 2): False, ('copper', 2): False, ('borat', 2): False, ('apolog', 2): False, ('overcast', 2): False, ('headlin', 2): False, ('cept', 2): False, ('backward', 2): False, ('doodl', 2): False, ('forr', 2): False, ('craigeryowen', 2): False, ('subscirbeee', 2): False, ('ewwwww', 2): False, ('spinner', 2): False, ('favor', 2): False, ('ana', 2): False, ('brazilian', 2): False, ('atlant', 2): False, ('hiiiii', 2): False, ('jada', 2): False, ('messeng', 2): False, ('longestpoemintheworld', 2): False, ('justinmgaston', 2): False, ('rustyrocket', 2): False, ('familia', 2): False, ('hulk', 2): False, ('maci', 2): False, ('vaccin', 2): False, ('tsa', 2): False, ('inspect', 2): False, ('streak', 2): False, ('sluggish', 2): False, ('shyt', 2): False, ('fellowship', 2): False, ('lautner', 2): False, ('soooooooo', 2): False, ('ftl', 2): False, ('happier', 2): False, ('europ', 2): False, ('cafemetro', 2): False, ('elev', 2): False, ('nie', 2): False, ('sharp', 2): False, ('rocket', 2): False, ('derbi', 2): False, ('justic', 2): False, ('liberti', 2): False, ('sweetest', 2): False, ('microsoft', 2): False, ('envi', 2): False, ('cindi', 2): False, ('purdi', 2): False, ('smug', 2): False, ('retro', 2): False, ('jordin', 2): False, ('youngest', 2): False, ('mere', 2): False, ('ojthekid', 2): False, ('tomo', 2): False, ('phoeb', 2): False, ('grandad', 2): False, ('por', 2): False, ('abil', 2): False, ('sharehold', 2): False, ('dividend', 2): False, ('strait', 2): False, ('realbillbailey', 2): False, ('oasi', 2): False, ('whack', 2): False, ('rygledhil', 2): False, ('val', 2): False, ('ae', 2): False, ('violin', 2): False, ('omega', 2): False, ('moustach', 2): False, ('confid', 2): False, ('blogspot', 2): False, ('vegetarian', 2): False, ('yellowspec', 2): False, ('wsop', 2): False, ('disc', 2): False, ('dexter', 2): False, ('cruis', 2): False, ('icontip', 2): False, ('nak', 2): False, ('catchup', 2): False, ('marsiscom', 2): False, ('krzq', 2): False, ('gabe', 2): False, ('anberlin', 2): False, ('gargh', 2): False, ('gangsta', 2): False, ('carlo', 2): False, ('loll', 2): False, ('accessoryami', 2): False, ('outing', 2): False, ('grandmoth', 2): False, ('poison', 2): False, ('evalu', 2): False, ('swap', 2): False, ('temp', 2): False, ('ath', 2): False, ('prawn', 2): False, ('princ', 2): False, ('liz', 2): False, ('joshua', 2): False, ('herb', 2): False, ('champ', 2): False, ('dare', 2): False, ('whoever', 2): False, ('mccartney', 2): False, ('mid', 2): False, ('greasi', 2): False, ('catep', 2): False, ('theolsen', 2): False, ('manic', 2): False, ('bucki', 2): False, ('aunti', 2): False, ('nkotb', 2): False, ('vanessaahudgen', 2): False, ('remedi', 2): False, ('categori', 2): False, ('scroll', 2): False, ('pal', 2): False, ('india', 2): False, ('cambridg', 2): False, ('israel', 2): False, ('sli', 2): False, ('recit', 2): False, ('cheaper', 2): False, ('abit', 2): False, ('firefox', 2): False, ('celli', 2): False, ('crisp', 2): False, ('salt', 2): False, ('sth', 2): False, ('washington', 2): False, ('snail', 2): False, ('melissa', 2): False, ('jami', 2): False, ('ay', 2): False, ('chan', 2): False, ('looong', 2): False, ('alu', 2): False, ('recognis', 2): False, ('jessicaveronica', 2): False, ('steak', 2): False, ('howard', 2): False, ('smiley', 2): False, ('trace', 2): False, ('superman', 2): False, ('fiction', 2): False, ('argument', 2): False, ('cher', 2): False, ('document', 2): False, ('peed', 2): False, ('stuf', 2): False, ('czech', 2): False, ('diabet', 2): False, ('ict', 2): False, ('galor', 2): False, ('hosp', 2): False, ('shampoo', 2): False, ('sista', 2): False, ('iamspectacular', 2): False, ('homesick', 2): False, ('sequel', 2): False, ('iv', 2): False, ('glasgow', 2): False, ('appoint', 2): False, ('pix', 2): False, ('iowa', 2): False, ('fund', 2): False, ('hahahahah', 2): False, ('kickin', 2): False, ('public', 2): False, ('creepi', 2): False, ('comcast', 2): False, ('rail', 2): False, ('fascin', 2): False, ('unlik', 2): False, ('sheldon', 2): False, ('yanni', 2): False, ('wid', 2): False, ('twop', 2): False, ('sunscreen', 2): False, ('clown', 2): False, ('tick', 2): False, ('greec', 2): False, ('runyon', 2): False, ('ifram', 2): False, ('grown', 2): False, ('bck', 2): False, ('comfi', 2): False, ('sheet', 2): False, ('eleven', 2): False, ('bunk', 2): False, ('panel', 2): False, ('essay', 2): False, ('wooohoo', 2): False, ('rag', 2): False, ('newslett', 2): False, ('luxuri', 2): False, ('panic', 2): False, ('deepest', 2): False, ('sympathi', 2): False, ('dele', 2): False, ('suicid', 2): False, ('dh', 2): False, ('slaughter', 2): False, ('humbug', 2): False, ('goddamn', 2): False, ('pale', 2): False, ('turnout', 2): False, ('drizzl', 2): False, ('wimbledon', 2): False, ('bakeri', 2): False, ('mmitchelldaviss', 2): False, ('bra', 2): False, ('afterward', 2): False, ('str', 2): False, ('fe', 2): False, ('ovum', 2): False, ('discoveri', 2): False, ('brian', 2): False, ('mj', 2): False, ('instant', 2): False, ('etern', 2): False, ('ustream', 2): False, ('johnson', 2): False, ('abc', 2): False, ('kirsti', 2): False, ('orthodontist', 2): False, ('goat', 2): False, ('toaster', 2): False, ('everyone', 2): False, ('grader', 2): False, ('gari', 2): False, ('sob', 2): False, ('jacob', 2): False, ('coy', 2): False, ('callback', 2): False, ('winchest', 2): False, ('abbi', 2): False, ('jane', 2): False, ('sketch', 2): False, ('vader', 2): False, ('opheliapunk', 2): False, ('snotti', 2): False, ('anth', 2): False, ('kol', 2): False, ('niley', 2): False, ('permit', 2): False, ('forreal', 2): False, ('johnni', 2): False, ('fdmonlin', 2): False, ('jc', 2): False, ('jo', 2): False, ('remark', 2): False, ('spice', 2): False, ('sync', 2): False, ('role', 2): False, ('io', 2): False, ('iamthecommodor', 2): False, ('thepistol', 2): False, ('lizjonashq', 2): False, ('laid', 2): False, ('certain', 2): False, ('shud', 2): False, ('comeagainjen', 2): False, ('debbi', 2): False, ('lili', 2): False, ('silver', 2): False, ('brent', 2): False, ('versatil', 2): False, ('led', 2): False, ('fella', 2): False, ('hayden', 2): False, ('dec', 2): False, ('spear', 2): False, ('paddl', 2): False, ('sg', 2): False, ('flood', 2): False, ('miriam', 2): False, ('marina', 2): False, ('ade', 2): False, ('shayn', 2): False, ('dorm', 2): False, ('swineflu', 2): False, ('juss', 2): False, ('flora', 2): False, ('kalo', 2): False, ('biasanya', 2): False, ('manta', 2): False, ('aaaand', 2): False, ('edg', 2): False, ('pooh', 2): False, ('accident', 2): False, ('habit', 2): False, ('wossybookclub', 2): False, ('henc', 2): False, ('finna', 2): False, ('isplay', 2): False, ('belong', 2): False, ('renew', 2): False, ('procrastin', 2): False, ('lad', 2): False, ('umbrella', 2): False, ('brb', 2): False, ('ar', 2): False, ('invad', 2): False, ('grew', 2): False, ('hamburg', 2): False, ('swollen', 2): False, ('focus', 2): False, ('tofu', 2): False, ('recogn', 2): False, ('steve', 2): False, ('madden', 2): False, ('drum', 2): False, ('bench', 2): False, ('shape', 2): False, ('realzoltan', 2): False, ('whit', 2): False, ('tengo', 2): False, ('ire', 2): False, ('ree', 2): False, ('rais', 2): False, ('calico', 2): False, ('confess', 2): False, ('tongu', 2): False, ('hawk', 2): False, ('gogogo', 2): False, ('obscura', 2): False, ('hood', 2): False, ('peru', 2): False, ('arrang', 2): False, ('wheee', 2): False, ('che', 2): False, ('pimpl', 2): False, ('protect', 2): False, ('spoiler', 2): False, ('joshthoma', 2): False, ('grate', 2): False, ('nonsens', 2): False, ('pleasee', 2): False, ('robbi', 2): False, ('debut', 2): False, ('casa', 2): False, ('dua', 2): False, ('mikegentil', 2): False, ('subvers', 2): False, ('multitask', 2): False, ('pacif', 2): False, ('motel', 2): False, ('humm', 2): False, ('chain', 2): False, ('carolyn', 2): False, ('alison', 2): False, ('curv', 2): False, ('cage', 2): False, ('reserv', 2): False, ('staff', 2): False, ('officialtila', 2): False, ('resembl', 2): False, ('unlimit', 2): False, ('situat', 2): False, ('paulabrett', 2): False, ('bonfir', 2): False, ('nkotbgal', 2): False, ('snl', 2): False, ('jtimberlak', 2): False, ('beliv', 2): False, ('sas', 2): False, ('offlin', 2): False, ('heap', 2): False, ('brake', 2): False, ('cheeki', 2): False, ('puddl', 2): False, ('thier', 2): False, ('loung', 2): False, ('miracl', 2): False, ('dozen', 2): False, ('content', 2): False, ('jennif', 2): False, ('object', 2): False, ('conquer', 2): False, ('psychic', 2): False, ('stab', 2): False, ('screwdriv', 2): False, ('calendar', 2): False, ('looov', 2): False, ('rape', 2): False, ('halo', 2): False, ('compar', 2): False, ('await', 2): False, ('sabrina', 2): False, ('korea', 2): False, ('cc', 2): False, ('homeschool', 2): False, ('chrome', 2): False, ('alic', 2): False, ('vi', 2): False, ('pan', 2): False, ('andshespeak', 2): False, ('abbey', 2): False, ('texttt', 2): False, ('fren', 2): False, ('conduct', 2): False, ('candid', 2): False, ('glamourcheck', 2): False, ('clearli', 2): False, ('agh', 2): False, ('android', 2): False, ('majorli', 2): False, ('shoutout', 2): False, ('mississippi', 2): False, ('trent', 2): False, ('reznor', 2): False, ('loo', 2): False, ('massachusett', 2): False, ('carp', 2): False, ('moi', 2): False, ('tx', 2): False, ('tylenol', 2): False, ('forcast', 2): False, ('shelbi', 2): False, ('rubi', 2): False, ('pretend', 2): False, ('divin', 2): False, ('depech', 2): False, ('acct', 2): False, ('toffe', 2): False, ('wawa', 2): False, ('newcastl', 2): False, ('sandal', 2): False, ('vodafon', 2): False, ('thecraigmorri', 2): False, ('kristen', 2): False, ('bristol', 2): False, ('sara', 2): False, ('tax', 2): False, ('incom', 2): False, ('madli', 2): False, ('hurray', 2): False, ('absent', 2): False, ('deadlin', 2): False, ('mgiraudoffici', 2): False, ('owww', 2): False, ('opp', 2): False, ('bandung', 2): False, ('aris', 2): False, ('harsh', 2): False, ('overdid', 2): False, ('indic', 2): False, ('froze', 2): False, ('tradit', 2): False, ('coincid', 2): False, ('cultur', 2): False, ('whyyi', 2): False, ('slave', 2): False, ('jennifalcon', 2): False, ('sel', 2): False, ('eatin', 2): False, ('imcudi', 2): False, ('poke', 2): False, ('hahahahaha', 2): False, ('headin', 2): False, ('nadal', 2): False, ('versu', 2): False, ('mentor', 2): False, ('warcraft', 2): False, ('tournament', 2): False, ('photoshop', 2): False, ('overlook', 2): False, ('squirrel', 2): False, ('eww', 2): False, ('prank', 2): False, ('dangerjo', 2): False, ('alexi', 2): False, ('nathanfillion', 2): False, ('fil', 2): False, ('hebbi', 2): False, ('stfu', 2): False, ('strength', 2): False, ('soleil', 2): False, ('gerdadur', 2): False, ('hilar', 2): False, ('drivenbyvis', 2): False, ('batter', 2): False, ('disturb', 2): False, ('eve', 2): False, ('sasha', 2): False, ('phplurk', 2): False, ('kettl', 2): False, ('dooo', 2): False, ('twitterberri', 2): False, ('turtl', 2): False, ('compressor', 2): False, ('hoodi', 2): False, ('jasoncastro', 2): False, ('dosent', 2): False, ('midday', 2): False, ('drank', 2): False, ('meg', 2): False, ('slight', 2): False, ('aaaah', 2): False, ('jeremi', 2): False, ('clarkson', 2): False, ('ba', 2): False, ('summon', 2): False, ('gain', 2): False, ('proverb', 2): False, ('rare', 2): False, ('speghetti', 2): False, ('region', 2): False, ('cert', 2): False, ('connor', 2): False, ('particularli', 2): False, ('blink', 2): False, ('unexpect', 2): False, ('alan', 2): False, ('diamond', 2): False, ('weee', 2): False, ('handsom', 2): False, ('suspect', 2): False, ('toy', 2): False, ('gona', 2): False, ('plsanr', 2): False, ('rug', 2): False, ('gnomeangel', 2): False, ('stern', 2): False, ('narcissist', 2): False, ('dv', 2): False, ('tai', 2): False, ('reviv', 2): False, ('monopoli', 2): False, ('hotdog', 2): False, ('celi', 2): False, ('weari', 2): False, ('wnt', 2): False, ('aight', 2): False, ('dwn', 2): False, ('enki', 2): False, ('silent', 2): False, ('xll', 2): False, ('unattract', 2): False, ('tractorqueen', 2): False, ('mourn', 2): False, ('stressin', 2): False, ('ditto', 2): False, ('tina', 2): False, ('noooooo', 2): False, ('claudia', 2): False, ('lieb', 2): False, ('db', 2): False, ('bklyn', 2): False, ('dmx', 2): False, ('addit', 2): False, ('restless', 2): False, ('bruno', 2): False, ('myinkyfingersau', 2): False, ('chi', 2): False, ('donkey', 2): False, ('tm', 2): False, ('denmark', 2): False, ('sheep', 2): False, ('ick', 2): False, ('amen', 2): False, ('snug', 2): False, ('lament', 2): False, ('mist', 2): False, ('innov', 2): False, ('stunt', 2): False, ('hater', 2): False, ('smelli', 2): False, ('solo', 2): False, ('shontel', 2): False, ('layn', 2): False, ('xox', 2): False, ('seek', 2): False, ('regret', 2): False, ('mil', 2): False, ('rockin', 2): False, ('damnit', 2): False, ('francisco', 2): False, ('plagu', 2): False, ('noah', 2): False, ('eurovis', 2): False, ('william', 2): False, ('baha', 2): False, ('arkansa', 2): False, ('enemi', 2): False, ('carlton', 2): False, ('chloe', 2): False, ('wilson', 2): False, ('horoscop', 2): False, ('mai', 2): False, ('oi', 2): False, ('nearbi', 2): False, ('whore', 2): False, ('explod', 2): False, ('blake', 2): False, ('kay', 2): False, ('perri', 2): False, ('rode', 2): False, ('dough', 2): False, ('retard', 2): False, ('proxi', 2): False, ('outtttt', 2): False, ('rhyme', 2): False, ('fro', 2): False, ('select', 2): False, ('psych', 2): False, ('rc', 2): False, ('mainli', 2): False, ('zune', 2): False, ('booth', 2): False, ('redbul', 2): False, ('cigarett', 2): False, ('wolverin', 2): False, ('mixcloud', 2): False, ('wockeez', 2): False, ('blahhh', 2): False, ('alton', 2): False, ('tower', 2): False, ('cope', 2): False, ('soundtrack', 2): False, ('grave', 2): False, ('xoxohelenhilton', 2): False, ('petit', 2): False, ('madilovesmerd', 2): False, ('yooh', 2): False, ('rental', 2): False, ('humid', 2): False, ('aluminum', 2): False, ('sonni', 2): False, ('victori', 2): False, ('tdf', 2): False, ('yogurt', 2): False, ('stretch', 2): False, ('bitten', 2): False, ('rn', 2): False, ('keen', 2): False, ('centr', 2): False, ('tyre', 2): False, ('pli', 2): False, ('wetland', 2): False, ('forest', 2): False, ('rid', 2): False, ('yucki', 2): False, ('pst', 2): False, ('nalang', 2): False, ('lefreak', 2): False, ('attitud', 2): False, ('dash', 2): False, ('edmonton', 2): False, ('oz', 2): False, ('roshnimo', 2): False, ('frount', 2): False, ('fuckin', 2): False, ('texan', 2): False, ('expo', 2): False, ('wut', 2): False, ('bow', 2): False, ('audio', 2): False, ('please', 2): False, ('mickey', 2): False, ('photoshoot', 2): False, ('aug', 2): False, ('toothach', 2): False, ('seminar', 2): False, ('darren', 2): False, ('wayyyi', 2): False, ('maggl', 2): False, ('ofcours', 2): False, ('fuey', 2): False, ('januarycrimson', 2): False, ('hiya', 2): False, ('playstat', 2): False, ('april', 2): False, ('cubicl', 2): False, ('spilt', 2): False, ('ww', 2): False, ('translat', 2): False, ('retrorewind', 2): False, ('canadian', 2): False, ('howeveralthough', 2): False, ('slack', 2): False, ('specif', 2): False, ('portabl', 2): False, ('telli', 2): False, ('cari', 2): False, ('equip', 2): False, ('nina', 2): False, ('lisamantchev', 2): False, ('autumn', 2): False, ('mattdavelewi', 2): False, ('cya', 2): False, ('carter', 2): False, ('twesta', 2): False, ('karl', 2): False, ('attach', 2): False, ('asshol', 2): False, ('ddub', 2): False, ('xl', 2): False, ('creep', 2): False, ('ramon', 2): False, ('televis', 2): False, ('elsewher', 2): False, ('mmmmm', 2): False, ('sparkl', 2): False, ('aid', 2): False, ('featur', 2): False, ('techniqu', 2): False, ('linz', 2): False, ('cashstwit', 2): False, ('gcse', 2): False, ('ughhhh', 2): False, ('undress', 2): False, ('meat', 2): False, ('pt', 2): False, ('sql', 2): False, ('valid', 2): False, ('crown', 2): False, ('realhughjackman', 2): False, ('grandpop', 2): False, ('reveng', 2): False, ('fucktard', 2): False, ('sp', 2): False, ('beaufort', 2): False, ('thailand', 2): False, ('udah', 2): False, ('kia', 2): False, ('ahm', 2): False, ('jeez', 2): False, ('karen', 2): False, ('prayn', 2): False, ('grandson', 2): False, ('riot', 2): False, ('alicia', 2): False, ('circl', 2): False, ('sour', 2): False, ('beef', 2): False, ('unblock', 2): False, ('utah', 2): False, ('swelter', 2): False, ('lexi', 2): False, ('wink', 2): False, ('stinkin', 2): False, ('highlight', 2): False, ('terrifi', 2): False, ('recreat', 2): False, ('tiananmen', 2): False, ('bonniebrown', 2): False, ('tuck', 2): False, ('richmond', 2): False, ('sunris', 2): False, ('siren', 2): False, ('ahhhhhhh', 2): False, ('sprite', 2): False, ('huhu', 2): False, ('sept', 2): False, ('yg', 2): False, ('hati', 2): False, ('dee', 2): False, ('sugar', 2): False, ('html', 2): False, ('termin', 2): False, ('outch', 2): False, ('wipe', 2): False, ('bruis', 2): False, ('jag', 2): False, ('izzi', 2): False, ('scifi', 2): False, ('besti', 2): False, ('passport', 2): False, ('stadium', 2): False, ('dump', 2): False, ('ud', 2): False, ('moonfry', 2): False, ('kart', 2): False, ('cappleg', 2): False, ('jap', 2): False, ('chiropractor', 2): False, ('ky', 2): False, ('haircut', 2): False, ('nois', 2): False, ('oder', 2): False, ('ashli', 2): False, ('buse', 2): False, ('anal', 2): False, ('ft', 2): False, ('antdog', 2): False, ('zoom', 2): False, ('shelv', 2): False, ('fuss', 2): False, ('turkish', 2): False, ('encourag', 2): False, ('jensen', 2): False, ('nbc', 2): False, ('rl', 2): False, ('eyebrow', 2): False, ('elizabethth', 2): False, ('hasnt', 2): False, ('axe', 2): False, ('etsi', 2): False, ('sportscent', 2): False, ('ahaaa', 2): False, ('mitchel', 2): False, ('derren', 2): False, ('treadmil', 2): False, ('migrain', 2): False, ('quarter', 2): False, ('basti', 2): False, ('bentriderro', 2): False, ('nod', 2): False, ('funn', 2): False, ('recharg', 2): False, ('yank', 2): False, ('burb', 2): False, ('cod', 2): False, ('dawn', 2): False, ('conni', 2): False, ('beatfreak', 2): False, ('dealer', 2): False, ('grove', 2): False, ('rington', 2): False, ('faint', 2): False, ('doze', 2): False, ('kaya', 2): False, ('naten', 2): False, ('mob', 2): False, ('kilt', 2): False, ('intern', 2): False, ('aud', 2): False, ('ahah', 2): False, ('reader', 2): False, ('yaya', 2): False, ('cock', 2): False, ('septemb', 2): False, ('bon', 2): False, ('jovi', 2): False, ('magnet', 2): False, ('pea', 2): False, ('duper', 2): False, ('heigh', 2): False, ('cathedr', 2): False, ('drawn', 2): False, ('bridal', 2): False, ('carl', 2): False, ('mysteri', 2): False, ('lawrenc', 2): False, ('earl', 2): False, ('tru', 2): False, ('becam', 2): False, ('highway', 2): False, ('wassup', 2): False, ('loooong', 2): False, ('lid', 2): False, ('progress', 2): False, ('squat', 2): False, ('cba', 2): False, ('yayi', 2): False, ('thickdecad', 2): False, ('narrat', 2): False, ('emot', 2): False, ('moe', 2): False, ('alonso', 2): False, ('mister', 2): False, ('nomtweet', 2): False, ('boar', 2): False, ('norway', 2): False, ('clark', 2): False, ('unicorn', 2): False, ('mount', 2): False, ('lantern', 2): False, ('naman', 2): False, ('der', 2): False, ('nahhh', 2): False, ('sorta', 2): False, ('adob', 2): False, ('simon', 2): False, ('laurenconrad', 2): False, ('ich', 2): False, ('violat', 2): False, ('kentucki', 2): False, ('maggi', 2): False, ('greatest', 2): False, ('jello', 2): False, ('whip', 2): False, ('peach', 2): False, ('nigga', 2): False, ('mechan', 2): False, ('rehna', 2): False, ('tu', 2): False, ('cabin', 2): False, ('registr', 2): False, ('sooth', 2): False, ('leisur', 2): False, ('hatz', 2): False, ('imax', 2): False, ('jakarta', 2): False, ('booooo', 2): False, ('spoonerist', 2): False, ('happymoon', 2): False, ('grrrrrr', 2): False, ('thanku', 2): False, ('mmmmmm', 2): False, ('inferior', 2): False, ('drool', 2): False, ('martin', 2): False, ('aaa', 2): False, ('fandom', 2): False, ('profession', 2): False, ('smith', 2): False, ('photograph', 2): False, ('ewwww', 2): False, ('sweeet', 2): False, ('nileylovestori', 2): False, ('subsequ', 2): False, ('havin', 2): False, ('dougiemcfli', 2): False, ('yu', 2): False, ('walkin', 2): False, ('leah', 2): False, ('aime', 2): False, ('carpet', 2): False, ('enviou', 2): False, ('paulaabdul', 2): False, ('darrylep', 2): False, ('getbendernow', 2): False, ('apa', 2): False, ('gimmi', 2): False, ('youuuu', 2): False, ('mamaduk', 2): False, ('bbb', 2): False, ('freaki', 2): False, ('koi', 2): False, ('contimpl', 2): False, ('rollersk', 2): False, ('classmat', 2): False, ('lappi', 2): False, ('sulk', 2): False, ('prada', 2): False, ('orgasm', 2): False, ('pup', 2): False, ('ge', 2): False, ('cum', 2): False, ('rendit', 2): False, ('meh', 2): False, ('premiership', 2): False, ('buat', 2): False, ('meu', 2): False, ('mistressmousey', 2): False, ('lg', 2): False, ('unforgett', 2): False, ('beinazir', 2): False, ('wound', 2): False, ('cocktail', 2): False, ('jalebi', 2): False, ('coco', 2): False, ('burp', 2): False, ('roadi', 2): False, ('blu', 2): False, ('iamsunda', 2): False, ('christina', 2): False, ('cypru', 2): False, ('ystrdi', 2): False, ('golden', 2): False, ('iz', 2): False, ('cy', 2): False, ('throb', 2): False, ('grandpa', 2): False, ('muffin', 2): False, ('margarita', 2): False, ('liao', 2): False, ('dannygokey', 2): False, ('milwauke', 2): False, ('drip', 2): False, ('raul', 2): False, ('bcuz', 2): False, ('binocular', 2): False, ('regard', 2): False, ('hott', 2): False, ('hobo', 2): False, ('beh', 2): False, ('unfinish', 2): False, ('xtra', 2): False, ('buffet', 2): False, ('learnt', 2): False, ('leon', 2): False, ('yumm', 2): False, ('unreal', 2): False, ('iamniicki', 2): False, ('caffein', 2): False, ('tin', 2): False, ('lean', 2): False, ('lit', 2): False, ('ottawa', 2): False, ('fuji', 2): False, ('pebbl', 2): False, ('lcd', 2): False, ('roman', 2): False, ('mp', 2): False, ('secondstomar', 2): False, ('desktop', 2): False, ('rainbowsoulpoet', 2): False, ('yor', 2): False, ('anxiou', 2): False, ('jinxi', 2): False, ('ty', 2): False, ('cano', 2): False, ('cleanup', 2): False, ('sleeveless', 2): False, ('lolol', 2): False, ('dd', 2): False, ('geograph', 2): False, ('bitchin', 2): False, ('plaid', 2): False, ('glitter', 2): False, ('sexual', 2): False, ('nerv', 2): False, ('amor', 2): False, ('guerrilla', 2): False, ('fifth', 2): False, ('shadi', 2): False, ('fear', 2): False, ('banquet', 2): False, ('ordinari', 2): False, ('porn', 2): False, ('bam', 2): False, ('spoon', 2): False, ('stocktak', 2): False, ('naaah', 2): False, ('heeey', 2): False, ('ponderingblond', 2): False, ('dian', 2): False, ('argu', 2): False, ('danger', 2): False, ('djdiamondkut', 2): False, ('chilli', 2): False, ('ocean', 2): False, ('horay', 2): False, ('strip', 2): False, ('movin', 2): False, ('lanc', 2): False, ('alaska', 2): False, ('gag', 2): False, ('aianna', 2): False, ('morman', 2): False, ('hindi', 2): False, ('nympho', 2): False, ('hoe', 2): False, ('frou', 2): False, ('sched', 2): False, ('nat', 2): False, ('flawless', 2): False, ('tyme', 2): False, ('rawr', 2): False, ('daze', 2): False, ('lend', 2): False, ('ellen', 2): False, ('kristi', 2): False, ('buemi', 2): False, ('bueno', 2): False, ('julian', 2): False, ('deen', 2): False, ('resist', 2): False, ('gurl', 2): False, ('demon', 2): False, ('hayley', 2): False, ('harvey', 2): False, ('effin', 2): False, ('enjoyin', 2): False, ('privaci', 2): False, ('millionair', 2): False, ('fedora', 2): False, ('hype', 2): False, ('crackberri', 2): False, ('guid', 2): False, ('shadow', 2): False, ('silverston', 2): False, ('adventur', 2): False, ('pattern', 2): False, ('aubreyoday', 2): False, ('awsom', 2): False, ('hershey', 2): False, ('pooch', 2): False, ('queue', 2): False, ('pip', 2): False, ('ukrain', 2): False, ('veget', 2): False, ('premier', 2): False, ('pud', 2): False, ('invoic', 2): False, ('funki', 2): False, ('flick', 2): False, ('elv', 2): False, ('noseble', 2): False, ('dmakron', 2): False, ('foster', 2): False, ('churchil', 2): False, ('binnsi', 2): False, ('shortli', 2): False, ('manchest', 2): False, ('apollo', 2): False, ('hitch', 2): False, ('stock', 2): False, ('froomkin', 2): False, ('crunchi', 2): False, ('zant', 2): False, ('allerg', 2): False, ('hurr', 2): False, ('yummmmm', 2): False, ('closest', 2): False, ('thumbnail', 2): False, ('twitprentic', 2): False, ('bew', 2): False, ('pero', 2): False, ('om', 2): False, ('poohsuk', 2): False, ('indiana', 2): False, ('tickl', 2): False, ('ding', 2): False, ('natal', 2): False, ('dope', 2): False, ('dedic', 2): False, ('zoe', 2): False, ('dive', 2): False, ('klue', 2): False, ('journo', 2): False, ('artichok', 2): False, ('gooooood', 2): False, ('gigantocat', 2): False, ('portmor', 2): False, ('squish', 2): False, ('mass', 2): False, ('norwegian', 2): False, ('latvia', 2): False, ('restroom', 2): False, ('lilbuck', 2): False, ('motorola', 2): False, ('tobinrog', 1): False, ('ifc', 1): False, ('weezereir', 1): False, ('su', 1): False, ('lk', 1): False, ('vwgroup', 1): False, ('vw', 1): False, ('dunde', 1): False, ('mb', 1): False, ('pongkowidjaja', 1): False, ('filter', 1): False, ('paw', 1): False, ('beethoven', 1): False, ('exceed', 1): False, ('catiam', 1): False, ('askajanyth', 1): False, ('crazylegsclub', 1): False, ('futurescientist', 1): False, ('eerrgghh', 1): False, ('setip', 1): False, ('magnifyingglass', 1): False, ('kakinya', 1): False, ('kwweecil', 1): False, ('adeuh', 1): False, ('merepotkan', 1): False, ('maaf', 1): False, ('clay', 1): False, ('snowbal', 1): False, ('attende', 1): False, ('sambo', 1): False, ('fought', 1): False, ('blek', 1): False, ('zm', 1): False, ('ul', 1): False, ('erlier', 1): False, ('wollemipin', 1): False, ('abbyluvsaj', 1): False, ('jboogi', 1): False, ('cazwel', 1): False, ('sakurajewelleri', 1): False, ('mew', 1): False, ('prettyyoungt', 1): False, ('magicswebpag', 1): False, ('mwfollowmepleas', 1): False, ('benjamin', 1): False, ('pitt', 1): False, ('nailafarhana', 1): False, ('ethan', 1): False, ('br', 1): False, ('ntn', 1): False, ('nai', 1): False, ('ethannya', 1): False, ('pake', 1): False, ('tux', 1): False, ('ngiler', 1): False, ('kali', 1): False, ('shockd', 1): False, ('voodooexp', 1): False, ('shanan', 1): False, ('steprinc', 1): False, ('fuckciti', 1): False, ('china', 1): False, ('contrast', 1): False, ('histaplefac', 1): False, ('erinoel', 1): False, ('ichat', 1): False, ('smiletrain', 1): False, ('southernmus', 1): False, ('damianhansen', 1): False, ('serpentselixir', 1): False, ('quackstervu', 1): False, ('cupofbe', 1): False, ('yeha', 1): False, ('hongkongwong', 1): False, ('megabyt', 1): False, ('megabit', 1): False, ('packrat', 1): False, ('tye', 1): False, ('wotchin', 1): False, ('dunnoo', 1): False, ('doo', 1): False, ('russmp', 1): False, ('kaniac', 1): False, ('oober', 1): False, ('nauseou', 1): False, ('gracewle', 1): False, ('campu', 1): False, ('raeeliz', 1): False, ('maul', 1): False, ('beau', 1): False, ('ashthebeliev', 1): False, ('thnk', 1): False, ('fractur', 1): False, ('humeru', 1): False, ('peacepeaceout', 1): False, ('postsecret', 1): False, ('arrrggghhh', 1): False, ('panda', 1): False, ('anisett', 1): False, ('suewat', 1): False, ('davejmatthew', 1): False, ('hoppin', 1): False, ('noahwebb', 1): False, ('autism', 1): False, ('cantt', 1): False, ('heattt', 1): False, ('ox', 1): False, ('withdrew', 1): False, ('morocco', 1): False, ('dragondilesh', 1): False, ('pleasantvil', 1): False, ('contend', 1): False, ('hamilton', 1): False, ('aprilbirdi', 1): False, ('chenelletanglao', 1): False, ('nosmik', 1): False, ('terra', 1): False, ('berryanarchi', 1): False, ('mrhollaout', 1): False, ('mannnnnn', 1): False, ('inconsequenti', 1): False, ('nevertheless', 1): False, ('todayyyi', 1): False, ('terriblyyyy', 1): False, ('unicornoflov', 1): False, ('rebecca', 1): False, ('norgat', 1): False, ('hvg', 1): False, ('moist', 1): False, ('bplusb', 1): False, ('shufflegazin', 1): False, ('ruddi', 1): False, ('djsolid', 1): False, ('davebarnesmus', 1): False, ('barn', 1): False, ('joss', 1): False, ('whedon', 1): False, ('bookstor', 1): False, ('indiebound', 1): False, ('pfokeef', 1): False, ('asparagu', 1): False, ('hollandais', 1): False, ('missnathvintag', 1): False, ('bisu', 1): False, ('calgari', 1): False, ('halifax', 1): False, ('thisgirlel', 1): False, ('fatburg', 1): False, ('hadasaguilar', 1): False, ('preclud', 1): False, ('cjjc', 1): False, ('overwhelm', 1): False, ('discern', 1): False, ('plastic', 1): False, ('benchbox', 1): False, ('ghetto', 1): False, ('weightlift', 1): False, ('benostasi', 1): False, ('boooourn', 1): False, ('inn', 1): False, ('comefilljulia', 1): False, ('richardglen', 1): False, ('hhehe', 1): False, ('skynew', 1): False, ('nazi', 1): False, ('coop', 1): False, ('margret', 1): False, ('goingto', 1): False, ('dakotaafan', 1): False, ('aer', 1): False, ('theprophetblog', 1): False, ('paradiso', 1): False, ('reducul', 1): False, ('greatcorbinski', 1): False, ('getcha', 1): False, ('zq', 1): False, ('wreak', 1): False, ('convuls', 1): False, ('karmachord', 1): False, ('glum', 1): False, ('plano', 1): False, ('butler', 1): False, ('thisisrio', 1): False, ('stevenzimm', 1): False, ('mjamm', 1): False, ('ateli', 1): False, ('theappl', 1): False, ('radiofir', 1): False, ('porschapark', 1): False, ('porscha', 1): False, ('agreat', 1): False, ('happygoate', 1): False, ('blueyedcass', 1): False, ('aschearschi', 1): False, ('itg', 1): False, ('lea', 1): False, ('zoeklu', 1): False, ('fme', 1): False, ('maryland', 1): False, ('carolina', 1): False, ('mokan', 1): False, ('basel', 1): False, ('thelangest', 1): False, ('harryistbtf', 1): False, ('depond', 1): False, ('hungryyyyi', 1): False, ('trishd', 1): False, ('thelyrix', 1): False, ('hunger', 1): False, ('insul', 1): False, ('twitster', 1): False, ('isaacmizrahi', 1): False, ('lazyag', 1): False, ('waah', 1): False, ('qng', 1): False, ('paano', 1): False, ('ipprint', 1): False, ('ung', 1): False, ('wla', 1): False, ('kme', 1): False, ('guillermo', 1): False, ('bosspref', 1): False, ('demibrightsid', 1): False, ('congratz', 1): False, ('gettn', 1): False, ('tah', 1): False, ('graced', 1): False, ('kooki', 1): False, ('neurot', 1): False, ('johnackley', 1): False, ('killerannax', 1): False, ('whippersnapp', 1): False, ('boooo', 1): False, ('sweetnoth', 1): False, ('mull', 1): False, ('miokokiko', 1): False, ('noterni', 1): False, ('netean', 1): False, ('creamer', 1): False, ('soyatoo', 1): False, ('nicolaaaa', 1): False, ('banditbuel', 1): False, ('daniera', 1): False, ('buri', 1): False, ('mannequin', 1): False, ('debenham', 1): False, ('turnontheradiox', 1): False, ('jiinksz', 1): False, ('isparkleen', 1): False, ('theonenonlyb', 1): False, ('anahiem', 1): False, ('woollywotnot', 1): False, ('mefv', 1): False, ('romeinflam', 1): False, ('tokillthek', 1): False, ('fttq', 1): False, ('izzyj', 1): False, ('sarahkaminski', 1): False, ('jampoung', 1): False, ('pedro', 1): False, ('pnmab', 1): False, ('isht', 1): False, ('ohnoess', 1): False, ('siralan', 1): False, ('candacecbur', 1): False, ('daveexplosm', 1): False, ('simmon', 1): False, ('calori', 1): False, ('macycan', 1): False, ('hormon', 1): False, ('denharsh', 1): False, ('fearnecotton', 1): False, ('yummm', 1): False, ('hurricanefresh', 1): False, ('satisfi', 1): False, ('appetit', 1): False, ('diri', 1): False, ('lizcasal', 1): False, ('intl', 1): False, ('occup', 1): False, ('safeti', 1): False, ('wizzlewolf', 1): False, ('artshow', 1): False, ('charri', 1): False, ('tweetnotpurg', 1): False, ('thrown', 1): False, ('leslieroark', 1): False, ('leylaaa', 1): False, ('shortstack', 1): False, ('shove', 1): False, ('jj', 1): False, ('manufactur', 1): False, ('dealership', 1): False, ('tesla', 1): False, ('geeki', 1): False, ('redhead', 1): False, ('muppet', 1): False, ('headless', 1): False, ('chuckl', 1): False, ('journalist', 1): False, ('govmt', 1): False, ('leek', 1): False, ('fax', 1): False, ('myfax', 1): False, ('grogan', 1): False, ('parrafin', 1): False, ('anaconda', 1): False, ('andyvglnt', 1): False, ('sammywhammmi', 1): False, ('thre', 1): False, ('thn', 1): False, ('frm', 1): False}, 4)\n"
     ]
    }
   ],
   "source": [
    "# your code here\n",
    "def document_features(document, top_words):\n",
    "    document_words = set(document)\n",
    "    features = {}\n",
    "    for word in top_words:\n",
    "        features[word] = (word in document_words)\n",
    "    return features\n",
    "\n",
    "# Create the feature set for each tweet\n",
    "feature_set = [(document_features(tweet, top_words), sentiment) for tweet, sentiment in zip(tweets['text_processed'], tweets['target'])]\n",
    "\n",
    "# Display an example feature set\n",
    "print(feature_set[0])"
   ]
  },
  {
   "cell_type": "markdown",
   "metadata": {},
   "source": [
    "### Building and Traininng Naive Bayes Model\n",
    "\n",
    "In this step you will split your feature set into a training and a test set. Then you will create a Bayes classifier instance using `nltk.NaiveBayesClassifier.train` ([example](https://www.nltk.org/book/ch06.html)) to train with the training dataset.\n",
    "\n",
    "After training the model, call `classifier.show_most_informative_features()` to inspect the most important features. The output will look like:\n",
    "\n",
    "```\n",
    "Most Informative Features\n",
    "\t    snow = True            False : True   =     34.3 : 1.0\n",
    "\t  easter = True            False : True   =     26.2 : 1.0\n",
    "\t headach = True            False : True   =     20.9 : 1.0\n",
    "\t    argh = True            False : True   =     17.6 : 1.0\n",
    "\tunfortun = True            False : True   =     16.9 : 1.0\n",
    "\t    jona = True             True : False  =     16.2 : 1.0\n",
    "\t     ach = True            False : True   =     14.9 : 1.0\n",
    "\t     sad = True            False : True   =     13.0 : 1.0\n",
    "\t  parent = True            False : True   =     12.9 : 1.0\n",
    "\t  spring = True            False : True   =     12.7 : 1.0\n",
    "```\n",
    "\n",
    "The [following video](https://www.youtube.com/watch?v=rISOsUaTrO4) will help you complete this step. The source code in this video can be found [here](https://pythonprogramming.net/naive-bayes-classifier-nltk-tutorial/)."
   ]
  },
  {
   "cell_type": "markdown",
   "metadata": {},
   "source": [
    "[![Building and Training NB](nb-model-building.jpg)](https://www.youtube.com/watch?v=rISOsUaTrO4)"
   ]
  },
  {
   "cell_type": "code",
   "execution_count": 43,
   "metadata": {},
   "outputs": [
    {
     "name": "stdout",
     "output_type": "stream",
     "text": [
      "Classifier accuracy: 0.507\n",
      "Most Informative Features\n",
      "              ('aaa', 2) = False               0 : 4      =      1.0 : 1.0\n",
      "            ('aaaah', 2) = False               0 : 4      =      1.0 : 1.0\n",
      "           ('aaaand', 2) = False               0 : 4      =      1.0 : 1.0\n",
      "            ('aaron', 4) = False               0 : 4      =      1.0 : 1.0\n",
      "          ('abandon', 3) = False               0 : 4      =      1.0 : 1.0\n",
      "            ('abbey', 2) = False               0 : 4      =      1.0 : 1.0\n",
      "             ('abbi', 2) = False               0 : 4      =      1.0 : 1.0\n",
      "       ('abbyluvsaj', 1) = False               0 : 4      =      1.0 : 1.0\n",
      "              ('abc', 2) = False               0 : 4      =      1.0 : 1.0\n",
      "             ('abil', 2) = False               0 : 4      =      1.0 : 1.0\n"
     ]
    }
   ],
   "source": [
    "# your code here\n",
    "\n",
    "import random\n",
    "from nltk import NaiveBayesClassifier\n",
    "from nltk.classify import accuracy\n",
    "\n",
    "# Shuffle the feature set\n",
    "random.shuffle(feature_set)\n",
    "\n",
    "# Split the feature set into a training set and a test set (80% training, 20% test)\n",
    "train_size = int(len(feature_set) * 0.8)\n",
    "train_set, test_set = feature_set[:train_size], feature_set[train_size:]\n",
    "\n",
    "# Train the Naive Bayes classifier\n",
    "classifier = NaiveBayesClassifier.train(train_set)\n",
    "\n",
    "# Test the classifier accuracy on the test set\n",
    "print(\"Classifier accuracy:\", accuracy(classifier, test_set))\n",
    "\n",
    "# Show the most informative features\n",
    "classifier.show_most_informative_features()"
   ]
  },
  {
   "cell_type": "markdown",
   "metadata": {},
   "source": [
    "### Testing Naive Bayes Model\n",
    "\n",
    "Now we'll test our classifier with the test dataset. This is done by calling `nltk.classify.accuracy(classifier, test)`.\n",
    "\n",
    "As mentioned in one of the tutorial videos, a Naive Bayes model is considered OK if your accuracy score is over 0.6. If your accuracy score is over 0.7, you've done a great job!"
   ]
  },
  {
   "cell_type": "code",
   "execution_count": 44,
   "metadata": {},
   "outputs": [
    {
     "name": "stdout",
     "output_type": "stream",
     "text": [
      "Classifier accuracy: 0.507\n",
      "The Naive Bayes model performance needs improvement.\n"
     ]
    }
   ],
   "source": [
    "# your code here\n",
    "\n",
    "from nltk.classify import accuracy\n",
    "\n",
    "# Evaluate the classifier accuracy on the test set\n",
    "accuracy_score = accuracy(classifier, test_set)\n",
    "print(\"Classifier accuracy:\", accuracy_score)\n",
    "\n",
    "# Check if the classifier performance is OK or great\n",
    "if accuracy_score > 0.6:\n",
    "    print(\"The Naive Bayes model is considered OK.\")\n",
    "    if accuracy_score > 0.7:\n",
    "        print(\"You've done a great job!\")\n",
    "else:\n",
    "    print(\"The Naive Bayes model performance needs improvement.\")\n"
   ]
  },
  {
   "cell_type": "markdown",
   "metadata": {},
   "source": [
    "## Bonus Question 1: Improve Model Performance\n",
    "\n",
    "If you are still not exhausted so far and want to dig deeper, try to improve your classifier performance. There are many aspects you can dig into, for example:\n",
    "\n",
    "* Improve stemming and lemmatization. Inspect your bag of words and the most important features. Are there any words you should furuther remove from analysis? You can append these words to further remove to the stop words list.\n",
    "\n",
    "* Remember we only used the top 5,000 features to build model? Try using different numbers of top features. The bottom line is to use as few features as you can without compromising your model performance. The fewer features you select into your model, the faster your model is trained. Then you can use a larger sample size to improve your model accuracy score."
   ]
  },
  {
   "cell_type": "code",
   "execution_count": 45,
   "metadata": {},
   "outputs": [],
   "source": [
    "# your code here"
   ]
  },
  {
   "cell_type": "markdown",
   "metadata": {},
   "source": [
    "## Bonus Question 2: Machine Learning Pipeline\n",
    "\n",
    "In a new Jupyter Notebook, combine all your codes into a function (or a class). Your new function will execute the complete machine learning pipeline job by receiving the dataset location and output the classifier. This will allow you to use your function to predict the sentiment of any tweet in real time. "
   ]
  },
  {
   "cell_type": "code",
   "execution_count": 46,
   "metadata": {},
   "outputs": [],
   "source": [
    "# your code here"
   ]
  },
  {
   "cell_type": "markdown",
   "metadata": {},
   "source": [
    "## Bonus Question 3: Apache Spark\n",
    "\n",
    "If you have completed the Apache Spark advanced topic lab, what you can do is to migrate your pipeline from local to a Databricks Notebook. Share your notebook with your instructor and classmates to show off your achievements!"
   ]
  },
  {
   "cell_type": "code",
   "execution_count": 47,
   "metadata": {},
   "outputs": [],
   "source": [
    "# your code here"
   ]
  }
 ],
 "metadata": {
  "kernelspec": {
   "display_name": "Python 3",
   "language": "python",
   "name": "python3"
  },
  "language_info": {
   "codemirror_mode": {
    "name": "ipython",
    "version": 3
   },
   "file_extension": ".py",
   "mimetype": "text/x-python",
   "name": "python",
   "nbconvert_exporter": "python",
   "pygments_lexer": "ipython3",
   "version": "3.12.0"
  }
 },
 "nbformat": 4,
 "nbformat_minor": 2
}
